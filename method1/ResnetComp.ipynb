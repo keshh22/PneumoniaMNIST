{
 "cells": [
  {
   "cell_type": "code",
   "execution_count": 8,
   "metadata": {},
   "outputs": [],
   "source": [
    "\n",
    "from tqdm import tqdm\n",
    "import numpy as np\n",
    "import random\n",
    "import torch\n",
    "import torch.nn as nn\n",
    "import torch.optim as optim\n",
    "import torch.utils.data as data\n",
    "import torchvision.models as models\n",
    "import torchvision.transforms as transforms\n",
    "\n",
    "import medmnist\n",
    "from medmnist import INFO, Evaluator\n",
    "from numpy.random import RandomState\n",
    "import numpy as np\n",
    "import torch\n",
    "import torch.optim as optim\n",
    "from torch.utils.data import Subset\n",
    "import re\n",
    "from torchvision import datasets, transforms"
   ]
  },
  {
   "cell_type": "code",
   "execution_count": 9,
   "metadata": {},
   "outputs": [],
   "source": [
    "def train(model, device, train_loader, optimizer, epoch, display=True):\n",
    "    model.train()\n",
    "    for batch_idx, (data, target) in enumerate(train_loader):\n",
    "        data, target = data.to(device), target.to(device)\n",
    "        optimizer.zero_grad()\n",
    "        output = model(data)\n",
    "        loss = F.binary_cross_entropy_with_logits(output, target.float())\n",
    "        loss.backward()\n",
    "        optimizer.step()\n",
    "    if display:\n",
    "      print('Train Epoch: {} [{}/{} ({:.0f}%)]\\tLoss: {:.6f}'.format(\n",
    "          epoch, batch_idx * len(data), len(train_loader.dataset),\n",
    "          100. * batch_idx / len(train_loader), loss.item()))\n",
    "    return loss.item()"
   ]
  },
  {
   "cell_type": "code",
   "execution_count": 10,
   "metadata": {},
   "outputs": [],
   "source": [
    "def test(model, device, test_loader, name=\"\\nVal\"):\n",
    "    model.eval()\n",
    "    test_loss = 0\n",
    "    correct = 0\n",
    "    with torch.no_grad():\n",
    "        for data, target in test_loader:\n",
    "            data, target = data.to(device), target.to(device)\n",
    "            output = model(data)\n",
    "            test_loss += F.binary_cross_entropy_with_logits(output, target.float(), size_average=False).item() # sum up batch loss\n",
    "            pred = output >= 0.5 \n",
    "            correct += pred.eq(target.view_as(pred)).sum().item()\n",
    "\n",
    "    test_loss /= len(test_loader.dataset)\n",
    "    print('{} set: Average loss: {:.4f}, Accuracy: {}/{} ({:.2f}%)\\n'.format(\n",
    "        name, test_loss, correct, len(test_loader.dataset),\n",
    "        100. * correct / len(test_loader.dataset)))\n",
    "    return 100. * correct / len(test_loader.dataset)"
   ]
  },
  {
   "cell_type": "code",
   "execution_count": 11,
   "metadata": {},
   "outputs": [],
   "source": [
    "import torch\n",
    "import torch.nn as nn \n",
    "import torch.nn.functional as F\n",
    "\n",
    "class Net(torch.nn.Module):\n",
    "    def __init__(self):\n",
    "        super(Net, self).__init__()\n",
    "        self.layers = nn.ModuleList()\n",
    "        \n",
    "        self.layers+=[nn.Conv2d(1, 16,  kernel_size=3) , \n",
    "                      nn.ReLU(inplace=True)]\n",
    "        self.layers+=[nn.Conv2d(16, 16,  kernel_size=3, stride=2), \n",
    "                      nn.ReLU(inplace=True)]\n",
    "        self.layers+=[nn.Conv2d(16, 32,  kernel_size=3), \n",
    "                      nn.ReLU(inplace=True)]\n",
    "        self.layers+=[nn.Conv2d(32, 32,  kernel_size=3, stride=2), \n",
    "                      nn.ReLU(inplace=True)]\n",
    "        self.fc = nn.Linear(32*4*4, 1)\n",
    "    def forward(self, x):\n",
    "        for i in range(len(self.layers)):\n",
    "          x = self.layers[i](x)\n",
    "        x = x.view(-1, 32*4*4)\n",
    "        x = self.fc(x)\n",
    "        return x"
   ]
  },
  {
   "cell_type": "code",
   "execution_count": 12,
   "metadata": {},
   "outputs": [],
   "source": [
    "def resNet18():\n",
    "    resNet18 = torch.hub.load('pytorch/vision:v0.10.0', 'resnet18', pretrained=False)\n",
    "    resNet18.conv1 = nn.Conv2d(1, 64, kernel_size=(7, 7), stride=(2, 2), padding=(3, 3), bias=False)\n",
    "    resNet18.fc = nn.Linear(in_features=512, out_features=1, bias=True)\n",
    "    return resNet18\n",
    "\n",
    "def resNet34():\n",
    "    resNet34 = torch.hub.load('pytorch/vision:v0.10.0', 'resnet34', pretrained=False)\n",
    "    resNet34.conv1 = nn.Conv2d(1, 64, kernel_size=(7, 7), stride=(2, 2), padding=(3, 3), bias=False)\n",
    "    resNet34.fc = nn.Linear(in_features=512, out_features=1, bias=True)\n",
    "    return resNet34\n",
    "\n",
    "def resNet50():\n",
    "    resNet50 = torch.hub.load('pytorch/vision:v0.10.0', 'resnet50', pretrained=False)\n",
    "    resNet50.conv1 = nn.Conv2d(1, 64, kernel_size=(7, 7), stride=(2, 2), padding=(3, 3), bias=False)\n",
    "    resNet50.fc = nn.Linear(in_features=2048, out_features=1, bias=True)\n",
    "    return resNet50\n",
    "\n",
    "def resNet101():\n",
    "    resNet101 = torch.hub.load('pytorch/vision:v0.10.0', 'resnet101', pretrained=False)\n",
    "    resNet101.conv1 = nn.Conv2d(1, 64, kernel_size=(7, 7), stride=(2, 2), padding=(3, 3), bias=False)\n",
    "    resNet101.fc = nn.Linear(in_features=2048, out_features=1, bias=True)\n",
    "    return resNet101\n",
    "\n",
    "def resNet152():\n",
    "    resNet152 = torch.hub.load('pytorch/vision:v0.10.0', 'resnet152', pretrained=False)\n",
    "    resNet152.conv1 = nn.Conv2d(1, 64, kernel_size=(7, 7), stride=(2, 2), padding=(3, 3), bias=False)\n",
    "    resNet152.fc = nn.Linear(in_features=2048, out_features=1, bias=True)\n",
    "    return resNet152"
   ]
  },
  {
   "cell_type": "code",
   "execution_count": 13,
   "metadata": {},
   "outputs": [],
   "source": [
    "resNets = [resNet18, resNet34, resNet50, resNet101, resNet152]"
   ]
  },
  {
   "cell_type": "code",
   "execution_count": 17,
   "metadata": {},
   "outputs": [
    {
     "name": "stdout",
     "output_type": "stream",
     "text": [
      "Using downloaded and verified file: C:\\Users\\kesha\\.medmnist\\pneumoniamnist.npz\n",
      "Using downloaded and verified file: C:\\Users\\kesha\\.medmnist\\pneumoniamnist.npz\n",
      "ResNet18: \n",
      "Num Samples For Training 10 Num Samples For Val 1000\n"
     ]
    },
    {
     "name": "stderr",
     "output_type": "stream",
     "text": [
      "Downloading: \"https://github.com/pytorch/vision/zipball/v0.10.0\" to C:\\Users\\kesha/.cache\\torch\\hub\\v0.10.0.zip\n",
      "c:\\Users\\kesha\\AppData\\Local\\Programs\\Python\\Python311\\Lib\\site-packages\\torchvision\\models\\_utils.py:208: UserWarning: The parameter 'pretrained' is deprecated since 0.13 and may be removed in the future, please use 'weights' instead.\n",
      "  warnings.warn(\n",
      "c:\\Users\\kesha\\AppData\\Local\\Programs\\Python\\Python311\\Lib\\site-packages\\torchvision\\models\\_utils.py:223: UserWarning: Arguments other than a weight enum or `None` for 'weights' are deprecated since 0.13 and may be removed in the future. The current behavior is equivalent to passing `weights=None`.\n",
      "  warnings.warn(msg)\n"
     ]
    },
    {
     "name": "stdout",
     "output_type": "stream",
     "text": [
      "Train Epoch: 0 [0/10 (0%)]\tLoss: 0.879212\n",
      "Train Epoch: 5 [0/10 (0%)]\tLoss: 0.000396\n",
      "Train Epoch: 10 [0/10 (0%)]\tLoss: 0.000178\n",
      "Train Epoch: 15 [0/10 (0%)]\tLoss: 0.000088\n",
      "Train Epoch: 20 [0/10 (0%)]\tLoss: 0.000055\n",
      "Train Epoch: 25 [0/10 (0%)]\tLoss: 0.000044\n",
      "Train Epoch: 30 [0/10 (0%)]\tLoss: 0.000038\n",
      "Train Epoch: 35 [0/10 (0%)]\tLoss: 0.000032\n",
      "Train Epoch: 40 [0/10 (0%)]\tLoss: 0.000029\n",
      "Train Epoch: 45 [0/10 (0%)]\tLoss: 0.000026\n"
     ]
    },
    {
     "name": "stderr",
     "output_type": "stream",
     "text": [
      "c:\\Users\\kesha\\AppData\\Local\\Programs\\Python\\Python311\\Lib\\site-packages\\torch\\nn\\_reduction.py:42: UserWarning: size_average and reduce args will be deprecated, please use reduction='sum' instead.\n",
      "  warnings.warn(warning.format(ret))\n"
     ]
    },
    {
     "name": "stdout",
     "output_type": "stream",
     "text": [
      "\n",
      "Val set: Average loss: 1.8113, Accuracy: 705/1000 (70.50%)\n",
      "\n",
      "ResNet34: \n",
      "Num Samples For Training 10 Num Samples For Val 1000\n"
     ]
    },
    {
     "name": "stderr",
     "output_type": "stream",
     "text": [
      "Using cache found in C:\\Users\\kesha/.cache\\torch\\hub\\pytorch_vision_v0.10.0\n"
     ]
    },
    {
     "name": "stdout",
     "output_type": "stream",
     "text": [
      "Train Epoch: 0 [0/10 (0%)]\tLoss: 0.850188\n",
      "Train Epoch: 5 [0/10 (0%)]\tLoss: 0.000343\n",
      "Train Epoch: 10 [0/10 (0%)]\tLoss: 0.000104\n",
      "Train Epoch: 15 [0/10 (0%)]\tLoss: 0.000033\n",
      "Train Epoch: 20 [0/10 (0%)]\tLoss: 0.000021\n",
      "Train Epoch: 25 [0/10 (0%)]\tLoss: 0.000016\n",
      "Train Epoch: 30 [0/10 (0%)]\tLoss: 0.000014\n",
      "Train Epoch: 35 [0/10 (0%)]\tLoss: 0.000012\n",
      "Train Epoch: 40 [0/10 (0%)]\tLoss: 0.000012\n",
      "Train Epoch: 45 [0/10 (0%)]\tLoss: 0.000011\n",
      "\n",
      "Val set: Average loss: 3.0758, Accuracy: 576/1000 (57.60%)\n",
      "\n",
      "ResNet50: \n",
      "Num Samples For Training 10 Num Samples For Val 1000\n"
     ]
    },
    {
     "name": "stderr",
     "output_type": "stream",
     "text": [
      "Using cache found in C:\\Users\\kesha/.cache\\torch\\hub\\pytorch_vision_v0.10.0\n"
     ]
    },
    {
     "name": "stdout",
     "output_type": "stream",
     "text": [
      "Train Epoch: 0 [0/10 (0%)]\tLoss: 0.577791\n",
      "Train Epoch: 5 [0/10 (0%)]\tLoss: 0.000205\n",
      "Train Epoch: 10 [0/10 (0%)]\tLoss: 0.000018\n",
      "Train Epoch: 15 [0/10 (0%)]\tLoss: 0.000109\n",
      "Train Epoch: 20 [0/10 (0%)]\tLoss: 0.000014\n",
      "Train Epoch: 25 [0/10 (0%)]\tLoss: 0.000026\n",
      "Train Epoch: 30 [0/10 (0%)]\tLoss: 0.000005\n",
      "Train Epoch: 35 [0/10 (0%)]\tLoss: 0.000003\n",
      "Train Epoch: 40 [0/10 (0%)]\tLoss: 0.000002\n",
      "Train Epoch: 45 [0/10 (0%)]\tLoss: 0.000002\n",
      "\n",
      "Val set: Average loss: 6.0038, Accuracy: 639/1000 (63.90%)\n",
      "\n",
      "ResNet101: \n",
      "Num Samples For Training 10 Num Samples For Val 1000\n"
     ]
    },
    {
     "name": "stderr",
     "output_type": "stream",
     "text": [
      "Using cache found in C:\\Users\\kesha/.cache\\torch\\hub\\pytorch_vision_v0.10.0\n"
     ]
    },
    {
     "name": "stdout",
     "output_type": "stream",
     "text": [
      "Train Epoch: 0 [0/10 (0%)]\tLoss: 0.728613\n",
      "Train Epoch: 5 [0/10 (0%)]\tLoss: 0.016871\n",
      "Train Epoch: 10 [0/10 (0%)]\tLoss: 0.000052\n",
      "Train Epoch: 15 [0/10 (0%)]\tLoss: 0.000071\n",
      "Train Epoch: 20 [0/10 (0%)]\tLoss: 0.000008\n",
      "Train Epoch: 25 [0/10 (0%)]\tLoss: 0.000004\n",
      "Train Epoch: 30 [0/10 (0%)]\tLoss: 0.000001\n",
      "Train Epoch: 35 [0/10 (0%)]\tLoss: 0.000001\n",
      "Train Epoch: 40 [0/10 (0%)]\tLoss: 0.000000\n",
      "Train Epoch: 45 [0/10 (0%)]\tLoss: 0.000000\n",
      "\n",
      "Val set: Average loss: 2.2475, Accuracy: 615/1000 (61.50%)\n",
      "\n",
      "ResNet152: \n",
      "Num Samples For Training 10 Num Samples For Val 1000\n"
     ]
    },
    {
     "name": "stderr",
     "output_type": "stream",
     "text": [
      "Using cache found in C:\\Users\\kesha/.cache\\torch\\hub\\pytorch_vision_v0.10.0\n"
     ]
    },
    {
     "name": "stdout",
     "output_type": "stream",
     "text": [
      "Train Epoch: 0 [0/10 (0%)]\tLoss: 0.882017\n",
      "Train Epoch: 5 [0/10 (0%)]\tLoss: 0.118311\n",
      "Train Epoch: 10 [0/10 (0%)]\tLoss: 0.001161\n",
      "Train Epoch: 15 [0/10 (0%)]\tLoss: 0.000085\n",
      "Train Epoch: 20 [0/10 (0%)]\tLoss: 0.000011\n",
      "Train Epoch: 25 [0/10 (0%)]\tLoss: 0.000016\n",
      "Train Epoch: 30 [0/10 (0%)]\tLoss: 0.000005\n",
      "Train Epoch: 35 [0/10 (0%)]\tLoss: 0.000002\n",
      "Train Epoch: 40 [0/10 (0%)]\tLoss: 0.000002\n",
      "Train Epoch: 45 [0/10 (0%)]\tLoss: 0.000003\n",
      "\n",
      "Val set: Average loss: 4.4329, Accuracy: 602/1000 (60.20%)\n",
      "\n",
      "CPU times: total: 8min 39s\n",
      "Wall time: 4min 13s\n"
     ]
    }
   ],
   "source": [
    "%%time\n",
    "from random import randint\n",
    "\n",
    "torch.manual_seed(0)\n",
    "torch.backends.cudnn.deterministic = True\n",
    "torch.backends.cudnn.benchmark = False\n",
    "random.seed(0)\n",
    "np.random.seed(0)\n",
    "\n",
    "# preprocessing\n",
    "data_flag = 'pneumoniamnist'\n",
    "\n",
    "download = True\n",
    "\n",
    "info = INFO[data_flag]\n",
    "n_classes = len(info['label'])\n",
    "DataClass = getattr(medmnist, info['python_class'])\n",
    "\n",
    "data_transform = transforms.Compose([\n",
    "      transforms.ToTensor(),\n",
    "      transforms.Normalize(mean=[.5], std=[.5]),\n",
    "      ])\n",
    "\n",
    "use_cuda = torch.cuda.is_available()\n",
    "device = torch.device(\"cuda\" if use_cuda else \"cpu\")\n",
    "\n",
    "# load the data\n",
    "train_dataset = DataClass(split='train', transform=data_transform, download=download)\n",
    "val_dataset = DataClass(split='train', transform=data_transform, download=download)\n",
    "\n",
    "loss18_val = []\n",
    "loss34_val = []\n",
    "loss50_val = []\n",
    "loss101_val = []\n",
    "loss152_val = []\n",
    "accs_val = []\n",
    "seed = randint(0,50)\n",
    "\n",
    "for resNet in resNets:\n",
    "    if resNet is resNet18:\n",
    "        print(\"ResNet18: \")\n",
    "    elif resNet is resNet34:\n",
    "        print(\"ResNet34: \")\n",
    "    elif resNet is resNet50:\n",
    "        print(\"ResNet50: \")\n",
    "    elif resNet is resNet101:\n",
    "        print(\"ResNet101: \")\n",
    "    elif resNet is resNet152:\n",
    "        print(\"ResNet152: \")\n",
    "    # for seed in  range(0, 50):\n",
    "    prng = RandomState(seed)\n",
    "    random_permute = prng.permutation(np.arange(0, 1000))\n",
    "    train_top = 10//n_classes\n",
    "    val_top = 1000//n_classes\n",
    "    indx_train = np.concatenate([np.where(train_dataset.labels == label)[0][random_permute[0:train_top]] for label in range(0, n_classes)])\n",
    "    indx_val = np.concatenate([np.where(train_dataset.labels == label)[0][random_permute[train_top:train_top + val_top]] for label in range(0, n_classes)])\n",
    "\n",
    "    train_data = Subset(train_dataset, indx_train)\n",
    "    val_data = Subset(val_dataset, indx_val)\n",
    "\n",
    "    print('Num Samples For Training %d Num Samples For Val %d'%(train_data.indices.shape[0],val_data.indices.shape[0]))\n",
    "\n",
    "    train_loader = torch.utils.data.DataLoader(train_data,\n",
    "                                                batch_size=32, \n",
    "                                                shuffle=True)\n",
    "\n",
    "    val_loader = torch.utils.data.DataLoader(val_data,\n",
    "                                                batch_size=128, \n",
    "                                                shuffle=False)\n",
    "\n",
    "    model = resNet()\n",
    "    model.to(device)\n",
    "\n",
    "    optimizer = torch.optim.Adam(model.parameters(),lr=1e-3)\n",
    "\n",
    "    for epoch in range(50):\n",
    "        l = train(model, device, train_loader, optimizer, epoch, display=epoch%5==0)\n",
    "        if resNet is resNet18:\n",
    "            loss18_val.append(l)\n",
    "        elif resNet is resNet34:\n",
    "            loss34_val.append(l)\n",
    "        elif resNet is resNet50:\n",
    "            loss50_val.append(l)\n",
    "        elif resNet is resNet101:\n",
    "            loss101_val.append(l)\n",
    "        elif resNet is resNet152:\n",
    "            loss152_val.append(l)\n",
    "\n",
    "    accs_val.append(test(model, device, val_loader))"
   ]
  },
  {
   "cell_type": "code",
   "execution_count": 18,
   "metadata": {},
   "outputs": [
    {
     "data": {
      "image/png": "[encoded data removed]",
      "text/plain": [
       "<Figure size 640x480 with 1 Axes>"
      ]
     },
     "metadata": {},
     "output_type": "display_data"
    }
   ],
   "source": [
    "import matplotlib.pyplot as plt\n",
    "\n",
    "plt.plot(loss18_val, label=\"ResNet18\")\n",
    "plt.plot(loss34_val, label=\"ResNet34\")\n",
    "plt.plot(loss50_val, label=\"ResNet50\")\n",
    "plt.plot(loss101_val, label=\"ResNet101\")\n",
    "plt.plot(loss152_val, label=\"ResNet152\")\n",
    "plt.xlabel('epochs')\n",
    "plt.ylabel('loss')\n",
    "plt.legend()\n",
    "plt.title('Training Curve for ResNets');\n",
    "plt.savefig('untrainedresnets_training.png')"
   ]
  }
 ],
 "metadata": {
  "kernelspec": {
   "display_name": "Python 3",
   "language": "python",
   "name": "python3"
  },
  "language_info": {
   "codemirror_mode": {
    "name": "ipython",
    "version": 3
   },
   "file_extension": ".py",
   "mimetype": "text/x-python",
   "name": "python",
   "nbconvert_exporter": "python",
   "pygments_lexer": "ipython3",
   "version": "3.11.5"
  }
 },
 "nbformat": 4,
 "nbformat_minor": 2
}
