{
 "cells": [
  {
   "cell_type": "code",
   "execution_count": 1,
   "metadata": {},
   "outputs": [],
   "source": [
    "from tqdm import tqdm\n",
    "import numpy as np\n",
    "import random\n",
    "import torch\n",
    "import torch.nn as nn\n",
    "import torch.optim as optim\n",
    "import torch.utils.data as data\n",
    "import torchvision.models as models\n",
    "import torchvision.transforms as transforms\n",
    "\n",
    "import medmnist\n",
    "from medmnist import INFO, Evaluator\n",
    "from numpy.random import RandomState\n",
    "import numpy as np\n",
    "import torch\n",
    "import torch.optim as optim\n",
    "from torch.utils.data import Subset\n",
    "import re\n",
    "from torchvision import datasets, transforms"
   ]
  },
  {
   "cell_type": "code",
   "execution_count": 2,
   "metadata": {},
   "outputs": [],
   "source": [
    "def train(model, device, train_loader, optimizer, epoch, display=True):\n",
    "    model.train()\n",
    "    for batch_idx, (data, target) in enumerate(train_loader):\n",
    "        data, target = data.to(device), target.to(device)\n",
    "        optimizer.zero_grad()\n",
    "        output = model(data)\n",
    "        loss = F.binary_cross_entropy_with_logits(output, target.float())\n",
    "        loss.backward()\n",
    "        optimizer.step()\n",
    "    if display:\n",
    "      print('Train Epoch: {} [{}/{} ({:.0f}%)]\\tLoss: {:.6f}'.format(\n",
    "          epoch, batch_idx * len(data), len(train_loader.dataset),\n",
    "          100. * batch_idx / len(train_loader), loss.item()))\n",
    "    return loss.item()\n",
    "\n",
    "def test(model, device, test_loader, name=\"\\nVal\"):\n",
    "    model.eval()\n",
    "    test_loss = 0\n",
    "    correct = 0\n",
    "    with torch.no_grad():\n",
    "        for data, target in test_loader:\n",
    "            data, target = data.to(device), target.to(device)\n",
    "            output = model(data)\n",
    "            test_loss += F.binary_cross_entropy_with_logits(output, target.float(), size_average=False).item() # sum up batch loss\n",
    "            pred = output >= 0.5 \n",
    "            correct += pred.eq(target.view_as(pred)).sum().item()\n",
    "\n",
    "    test_loss /= len(test_loader.dataset)\n",
    "    print('{} set: Average loss: {:.4f}, Accuracy: {}/{} ({:.2f}%)\\n'.format(\n",
    "        name, test_loss, correct, len(test_loader.dataset),\n",
    "        100. * correct / len(test_loader.dataset)))\n",
    "    return 100. * correct / len(test_loader.dataset)"
   ]
  },
  {
   "cell_type": "code",
   "execution_count": 3,
   "metadata": {},
   "outputs": [],
   "source": [
    "import torch\n",
    "import torch.nn as nn \n",
    "import torch.nn.functional as F\n",
    "\n",
    "class Net(torch.nn.Module):\n",
    "    def __init__(self):\n",
    "        super(Net, self).__init__()\n",
    "        self.layers = nn.ModuleList()\n",
    "        \n",
    "        self.layers+=[nn.Conv2d(1, 16,  kernel_size=3) , \n",
    "                      nn.ReLU(inplace=True)]\n",
    "        self.layers+=[nn.Conv2d(16, 16,  kernel_size=3, stride=2), \n",
    "                      nn.ReLU(inplace=True)]\n",
    "        self.layers+=[nn.Conv2d(16, 32,  kernel_size=3), \n",
    "                      nn.ReLU(inplace=True)]\n",
    "        self.layers+=[nn.Conv2d(32, 32,  kernel_size=3, stride=2), \n",
    "                      nn.ReLU(inplace=True)]\n",
    "        self.fc = nn.Linear(32*4*4, 1)\n",
    "    def forward(self, x):\n",
    "        for i in range(len(self.layers)):\n",
    "          x = self.layers[i](x)\n",
    "        x = x.view(-1, 32*4*4)\n",
    "        x = self.fc(x)\n",
    "        return x"
   ]
  },
  {
   "cell_type": "code",
   "execution_count": 4,
   "metadata": {},
   "outputs": [
    {
     "name": "stdout",
     "output_type": "stream",
     "text": [
      "Using downloaded and verified file: C:\\Users\\kesha\\.medmnist\\pneumoniamnist.npz\n",
      "Using downloaded and verified file: C:\\Users\\kesha\\.medmnist\\pneumoniamnist.npz\n",
      "Num Samples For Training 10 Num Samples For Val 1000\n",
      "Train Epoch: 0 [0/10 (0%)]\tLoss: 0.693146\n",
      "Train Epoch: 5 [0/10 (0%)]\tLoss: 0.685158\n",
      "Train Epoch: 10 [0/10 (0%)]\tLoss: 0.666008\n",
      "Train Epoch: 15 [0/10 (0%)]\tLoss: 0.620920\n",
      "Train Epoch: 20 [0/10 (0%)]\tLoss: 0.526671\n",
      "Train Epoch: 25 [0/10 (0%)]\tLoss: 0.368054\n",
      "Train Epoch: 30 [0/10 (0%)]\tLoss: 0.199040\n",
      "Train Epoch: 35 [0/10 (0%)]\tLoss: 0.081805\n",
      "Train Epoch: 40 [0/10 (0%)]\tLoss: 0.022070\n",
      "Train Epoch: 45 [0/10 (0%)]\tLoss: 0.004534\n"
     ]
    },
    {
     "name": "stderr",
     "output_type": "stream",
     "text": [
      "c:\\Users\\kesha\\AppData\\Local\\Programs\\Python\\Python311\\Lib\\site-packages\\torch\\nn\\_reduction.py:42: UserWarning: size_average and reduce args will be deprecated, please use reduction='sum' instead.\n",
      "  warnings.warn(warning.format(ret))\n"
     ]
    },
    {
     "name": "stdout",
     "output_type": "stream",
     "text": [
      "\n",
      "Val set: Average loss: 1.0686, Accuracy: 818/1000 (81.80%)\n",
      "\n",
      "Num Samples For Training 10 Num Samples For Val 1000\n",
      "Train Epoch: 0 [0/10 (0%)]\tLoss: 0.692915\n",
      "Train Epoch: 5 [0/10 (0%)]\tLoss: 0.683640\n",
      "Train Epoch: 10 [0/10 (0%)]\tLoss: 0.663888\n",
      "Train Epoch: 15 [0/10 (0%)]\tLoss: 0.622211\n",
      "Train Epoch: 20 [0/10 (0%)]\tLoss: 0.538408\n",
      "Train Epoch: 25 [0/10 (0%)]\tLoss: 0.395547\n",
      "Train Epoch: 30 [0/10 (0%)]\tLoss: 0.238146\n",
      "Train Epoch: 35 [0/10 (0%)]\tLoss: 0.099529\n",
      "Train Epoch: 40 [0/10 (0%)]\tLoss: 0.022267\n",
      "Train Epoch: 45 [0/10 (0%)]\tLoss: 0.004872\n",
      "\n",
      "Val set: Average loss: 1.2582, Accuracy: 753/1000 (75.30%)\n",
      "\n",
      "Num Samples For Training 10 Num Samples For Val 1000\n",
      "Train Epoch: 0 [0/10 (0%)]\tLoss: 0.693295\n",
      "Train Epoch: 5 [0/10 (0%)]\tLoss: 0.675083\n",
      "Train Epoch: 10 [0/10 (0%)]\tLoss: 0.620139\n",
      "Train Epoch: 15 [0/10 (0%)]\tLoss: 0.475252\n",
      "Train Epoch: 20 [0/10 (0%)]\tLoss: 0.229035\n",
      "Train Epoch: 25 [0/10 (0%)]\tLoss: 0.060260\n",
      "Train Epoch: 30 [0/10 (0%)]\tLoss: 0.012434\n",
      "Train Epoch: 35 [0/10 (0%)]\tLoss: 0.002046\n",
      "Train Epoch: 40 [0/10 (0%)]\tLoss: 0.000369\n",
      "Train Epoch: 45 [0/10 (0%)]\tLoss: 0.000094\n",
      "\n",
      "Val set: Average loss: 4.8857, Accuracy: 718/1000 (71.80%)\n",
      "\n",
      "Num Samples For Training 10 Num Samples For Val 1000\n",
      "Train Epoch: 0 [0/10 (0%)]\tLoss: 0.694068\n",
      "Train Epoch: 5 [0/10 (0%)]\tLoss: 0.686695\n",
      "Train Epoch: 10 [0/10 (0%)]\tLoss: 0.669750\n",
      "Train Epoch: 15 [0/10 (0%)]\tLoss: 0.627301\n",
      "Train Epoch: 20 [0/10 (0%)]\tLoss: 0.542870\n",
      "Train Epoch: 25 [0/10 (0%)]\tLoss: 0.398268\n",
      "Train Epoch: 30 [0/10 (0%)]\tLoss: 0.219281\n",
      "Train Epoch: 35 [0/10 (0%)]\tLoss: 0.090279\n",
      "Train Epoch: 40 [0/10 (0%)]\tLoss: 0.021698\n",
      "Train Epoch: 45 [0/10 (0%)]\tLoss: 0.003942\n",
      "\n",
      "Val set: Average loss: 1.3326, Accuracy: 837/1000 (83.70%)\n",
      "\n",
      "Num Samples For Training 10 Num Samples For Val 1000\n",
      "Train Epoch: 0 [0/10 (0%)]\tLoss: 0.693293\n",
      "Train Epoch: 5 [0/10 (0%)]\tLoss: 0.675965\n",
      "Train Epoch: 10 [0/10 (0%)]\tLoss: 0.630154\n",
      "Train Epoch: 15 [0/10 (0%)]\tLoss: 0.521705\n",
      "Train Epoch: 20 [0/10 (0%)]\tLoss: 0.356796\n",
      "Train Epoch: 25 [0/10 (0%)]\tLoss: 0.252878\n",
      "Train Epoch: 30 [0/10 (0%)]\tLoss: 0.165676\n",
      "Train Epoch: 35 [0/10 (0%)]\tLoss: 0.072458\n",
      "Train Epoch: 40 [0/10 (0%)]\tLoss: 0.021396\n",
      "Train Epoch: 45 [0/10 (0%)]\tLoss: 0.005399\n",
      "\n",
      "Val set: Average loss: 1.2030, Accuracy: 797/1000 (79.70%)\n",
      "\n",
      "Num Samples For Training 10 Num Samples For Val 1000\n",
      "Train Epoch: 0 [0/10 (0%)]\tLoss: 0.693332\n",
      "Train Epoch: 5 [0/10 (0%)]\tLoss: 0.682770\n",
      "Train Epoch: 10 [0/10 (0%)]\tLoss: 0.657387\n",
      "Train Epoch: 15 [0/10 (0%)]\tLoss: 0.591845\n",
      "Train Epoch: 20 [0/10 (0%)]\tLoss: 0.452053\n",
      "Train Epoch: 25 [0/10 (0%)]\tLoss: 0.271292\n",
      "Train Epoch: 30 [0/10 (0%)]\tLoss: 0.120826\n",
      "Train Epoch: 35 [0/10 (0%)]\tLoss: 0.023989\n",
      "Train Epoch: 40 [0/10 (0%)]\tLoss: 0.003255\n",
      "Train Epoch: 45 [0/10 (0%)]\tLoss: 0.000665\n",
      "\n",
      "Val set: Average loss: 1.4287, Accuracy: 720/1000 (72.00%)\n",
      "\n",
      "Num Samples For Training 10 Num Samples For Val 1000\n",
      "Train Epoch: 0 [0/10 (0%)]\tLoss: 0.692279\n",
      "Train Epoch: 5 [0/10 (0%)]\tLoss: 0.671514\n",
      "Train Epoch: 10 [0/10 (0%)]\tLoss: 0.619782\n",
      "Train Epoch: 15 [0/10 (0%)]\tLoss: 0.508433\n",
      "Train Epoch: 20 [0/10 (0%)]\tLoss: 0.350295\n",
      "Train Epoch: 25 [0/10 (0%)]\tLoss: 0.204746\n",
      "Train Epoch: 30 [0/10 (0%)]\tLoss: 0.088608\n",
      "Train Epoch: 35 [0/10 (0%)]\tLoss: 0.021639\n",
      "Train Epoch: 40 [0/10 (0%)]\tLoss: 0.003327\n",
      "Train Epoch: 45 [0/10 (0%)]\tLoss: 0.000560\n",
      "\n",
      "Val set: Average loss: 0.5248, Accuracy: 862/1000 (86.20%)\n",
      "\n",
      "Num Samples For Training 10 Num Samples For Val 1000\n",
      "Train Epoch: 0 [0/10 (0%)]\tLoss: 0.693074\n",
      "Train Epoch: 5 [0/10 (0%)]\tLoss: 0.683060\n",
      "Train Epoch: 10 [0/10 (0%)]\tLoss: 0.658298\n",
      "Train Epoch: 15 [0/10 (0%)]\tLoss: 0.593784\n",
      "Train Epoch: 20 [0/10 (0%)]\tLoss: 0.458467\n",
      "Train Epoch: 25 [0/10 (0%)]\tLoss: 0.261976\n",
      "Train Epoch: 30 [0/10 (0%)]\tLoss: 0.095411\n",
      "Train Epoch: 35 [0/10 (0%)]\tLoss: 0.021856\n",
      "Train Epoch: 40 [0/10 (0%)]\tLoss: 0.003886\n",
      "Train Epoch: 45 [0/10 (0%)]\tLoss: 0.000776\n",
      "\n",
      "Val set: Average loss: 0.6982, Accuracy: 875/1000 (87.50%)\n",
      "\n",
      "Num Samples For Training 10 Num Samples For Val 1000\n",
      "Train Epoch: 0 [0/10 (0%)]\tLoss: 0.693837\n",
      "Train Epoch: 5 [0/10 (0%)]\tLoss: 0.685002\n",
      "Train Epoch: 10 [0/10 (0%)]\tLoss: 0.666988\n",
      "Train Epoch: 15 [0/10 (0%)]\tLoss: 0.623313\n",
      "Train Epoch: 20 [0/10 (0%)]\tLoss: 0.524899\n",
      "Train Epoch: 25 [0/10 (0%)]\tLoss: 0.354115\n",
      "Train Epoch: 30 [0/10 (0%)]\tLoss: 0.165888\n",
      "Train Epoch: 35 [0/10 (0%)]\tLoss: 0.041688\n",
      "Train Epoch: 40 [0/10 (0%)]\tLoss: 0.006246\n",
      "Train Epoch: 45 [0/10 (0%)]\tLoss: 0.001083\n",
      "\n",
      "Val set: Average loss: 0.8955, Accuracy: 799/1000 (79.90%)\n",
      "\n",
      "Num Samples For Training 10 Num Samples For Val 1000\n",
      "Train Epoch: 0 [0/10 (0%)]\tLoss: 0.695124\n",
      "Train Epoch: 5 [0/10 (0%)]\tLoss: 0.674587\n",
      "Train Epoch: 10 [0/10 (0%)]\tLoss: 0.625606\n",
      "Train Epoch: 15 [0/10 (0%)]\tLoss: 0.519204\n",
      "Train Epoch: 20 [0/10 (0%)]\tLoss: 0.371350\n",
      "Train Epoch: 25 [0/10 (0%)]\tLoss: 0.184733\n",
      "Train Epoch: 30 [0/10 (0%)]\tLoss: 0.056571\n",
      "Train Epoch: 35 [0/10 (0%)]\tLoss: 0.009555\n",
      "Train Epoch: 40 [0/10 (0%)]\tLoss: 0.001319\n",
      "Train Epoch: 45 [0/10 (0%)]\tLoss: 0.000233\n",
      "\n",
      "Val set: Average loss: 1.6427, Accuracy: 791/1000 (79.10%)\n",
      "\n",
      "Num Samples For Training 10 Num Samples For Val 1000\n",
      "Train Epoch: 0 [0/10 (0%)]\tLoss: 0.692594\n",
      "Train Epoch: 5 [0/10 (0%)]\tLoss: 0.677800\n",
      "Train Epoch: 10 [0/10 (0%)]\tLoss: 0.641560\n",
      "Train Epoch: 15 [0/10 (0%)]\tLoss: 0.556120\n",
      "Train Epoch: 20 [0/10 (0%)]\tLoss: 0.401267\n",
      "Train Epoch: 25 [0/10 (0%)]\tLoss: 0.216913\n",
      "Train Epoch: 30 [0/10 (0%)]\tLoss: 0.081057\n",
      "Train Epoch: 35 [0/10 (0%)]\tLoss: 0.017677\n",
      "Train Epoch: 40 [0/10 (0%)]\tLoss: 0.002900\n",
      "Train Epoch: 45 [0/10 (0%)]\tLoss: 0.000558\n",
      "\n",
      "Val set: Average loss: 0.5908, Accuracy: 862/1000 (86.20%)\n",
      "\n",
      "Num Samples For Training 10 Num Samples For Val 1000\n",
      "Train Epoch: 0 [0/10 (0%)]\tLoss: 0.693023\n",
      "Train Epoch: 5 [0/10 (0%)]\tLoss: 0.679340\n",
      "Train Epoch: 10 [0/10 (0%)]\tLoss: 0.647769\n",
      "Train Epoch: 15 [0/10 (0%)]\tLoss: 0.574043\n",
      "Train Epoch: 20 [0/10 (0%)]\tLoss: 0.428549\n",
      "Train Epoch: 25 [0/10 (0%)]\tLoss: 0.226207\n",
      "Train Epoch: 30 [0/10 (0%)]\tLoss: 0.077789\n",
      "Train Epoch: 35 [0/10 (0%)]\tLoss: 0.019026\n",
      "Train Epoch: 40 [0/10 (0%)]\tLoss: 0.003828\n",
      "Train Epoch: 45 [0/10 (0%)]\tLoss: 0.000893\n",
      "\n",
      "Val set: Average loss: 0.9125, Accuracy: 825/1000 (82.50%)\n",
      "\n",
      "Num Samples For Training 10 Num Samples For Val 1000\n",
      "Train Epoch: 0 [0/10 (0%)]\tLoss: 0.693422\n",
      "Train Epoch: 5 [0/10 (0%)]\tLoss: 0.680827\n",
      "Train Epoch: 10 [0/10 (0%)]\tLoss: 0.650365\n",
      "Train Epoch: 15 [0/10 (0%)]\tLoss: 0.578394\n",
      "Train Epoch: 20 [0/10 (0%)]\tLoss: 0.435549\n",
      "Train Epoch: 25 [0/10 (0%)]\tLoss: 0.257469\n",
      "Train Epoch: 30 [0/10 (0%)]\tLoss: 0.125937\n",
      "Train Epoch: 35 [0/10 (0%)]\tLoss: 0.037263\n",
      "Train Epoch: 40 [0/10 (0%)]\tLoss: 0.007675\n",
      "Train Epoch: 45 [0/10 (0%)]\tLoss: 0.001312\n",
      "\n",
      "Val set: Average loss: 0.5088, Accuracy: 877/1000 (87.70%)\n",
      "\n",
      "Num Samples For Training 10 Num Samples For Val 1000\n",
      "Train Epoch: 0 [0/10 (0%)]\tLoss: 0.693313\n",
      "Train Epoch: 5 [0/10 (0%)]\tLoss: 0.684034\n",
      "Train Epoch: 10 [0/10 (0%)]\tLoss: 0.659741\n",
      "Train Epoch: 15 [0/10 (0%)]\tLoss: 0.599603\n",
      "Train Epoch: 20 [0/10 (0%)]\tLoss: 0.481349\n",
      "Train Epoch: 25 [0/10 (0%)]\tLoss: 0.298040\n",
      "Train Epoch: 30 [0/10 (0%)]\tLoss: 0.133667\n",
      "Train Epoch: 35 [0/10 (0%)]\tLoss: 0.044485\n",
      "Train Epoch: 40 [0/10 (0%)]\tLoss: 0.009248\n",
      "Train Epoch: 45 [0/10 (0%)]\tLoss: 0.001663\n",
      "\n",
      "Val set: Average loss: 1.1410, Accuracy: 823/1000 (82.30%)\n",
      "\n",
      "Num Samples For Training 10 Num Samples For Val 1000\n",
      "Train Epoch: 0 [0/10 (0%)]\tLoss: 0.693087\n",
      "Train Epoch: 5 [0/10 (0%)]\tLoss: 0.680880\n",
      "Train Epoch: 10 [0/10 (0%)]\tLoss: 0.649584\n",
      "Train Epoch: 15 [0/10 (0%)]\tLoss: 0.573754\n",
      "Train Epoch: 20 [0/10 (0%)]\tLoss: 0.428467\n",
      "Train Epoch: 25 [0/10 (0%)]\tLoss: 0.243647\n",
      "Train Epoch: 30 [0/10 (0%)]\tLoss: 0.076378\n",
      "Train Epoch: 35 [0/10 (0%)]\tLoss: 0.011040\n",
      "Train Epoch: 40 [0/10 (0%)]\tLoss: 0.001805\n",
      "Train Epoch: 45 [0/10 (0%)]\tLoss: 0.000365\n",
      "\n",
      "Val set: Average loss: 0.8806, Accuracy: 851/1000 (85.10%)\n",
      "\n",
      "Num Samples For Training 10 Num Samples For Val 1000\n",
      "Train Epoch: 0 [0/10 (0%)]\tLoss: 0.693507\n",
      "Train Epoch: 5 [0/10 (0%)]\tLoss: 0.681961\n",
      "Train Epoch: 10 [0/10 (0%)]\tLoss: 0.655271\n",
      "Train Epoch: 15 [0/10 (0%)]\tLoss: 0.582190\n",
      "Train Epoch: 20 [0/10 (0%)]\tLoss: 0.437234\n",
      "Train Epoch: 25 [0/10 (0%)]\tLoss: 0.283560\n",
      "Train Epoch: 30 [0/10 (0%)]\tLoss: 0.214762\n",
      "Train Epoch: 35 [0/10 (0%)]\tLoss: 0.159456\n",
      "Train Epoch: 40 [0/10 (0%)]\tLoss: 0.092662\n",
      "Train Epoch: 45 [0/10 (0%)]\tLoss: 0.050444\n",
      "\n",
      "Val set: Average loss: 1.2016, Accuracy: 789/1000 (78.90%)\n",
      "\n",
      "Num Samples For Training 10 Num Samples For Val 1000\n",
      "Train Epoch: 0 [0/10 (0%)]\tLoss: 0.693508\n",
      "Train Epoch: 5 [0/10 (0%)]\tLoss: 0.680649\n",
      "Train Epoch: 10 [0/10 (0%)]\tLoss: 0.644446\n",
      "Train Epoch: 15 [0/10 (0%)]\tLoss: 0.552603\n",
      "Train Epoch: 20 [0/10 (0%)]\tLoss: 0.380408\n",
      "Train Epoch: 25 [0/10 (0%)]\tLoss: 0.200787\n",
      "Train Epoch: 30 [0/10 (0%)]\tLoss: 0.066514\n",
      "Train Epoch: 35 [0/10 (0%)]\tLoss: 0.014021\n",
      "Train Epoch: 40 [0/10 (0%)]\tLoss: 0.002416\n",
      "Train Epoch: 45 [0/10 (0%)]\tLoss: 0.000438\n",
      "\n",
      "Val set: Average loss: 0.6944, Accuracy: 842/1000 (84.20%)\n",
      "\n",
      "Num Samples For Training 10 Num Samples For Val 1000\n",
      "Train Epoch: 0 [0/10 (0%)]\tLoss: 0.693203\n",
      "Train Epoch: 5 [0/10 (0%)]\tLoss: 0.668173\n",
      "Train Epoch: 10 [0/10 (0%)]\tLoss: 0.599127\n",
      "Train Epoch: 15 [0/10 (0%)]\tLoss: 0.441325\n",
      "Train Epoch: 20 [0/10 (0%)]\tLoss: 0.255096\n",
      "Train Epoch: 25 [0/10 (0%)]\tLoss: 0.189258\n",
      "Train Epoch: 30 [0/10 (0%)]\tLoss: 0.114894\n",
      "Train Epoch: 35 [0/10 (0%)]\tLoss: 0.046004\n",
      "Train Epoch: 40 [0/10 (0%)]\tLoss: 0.012722\n",
      "Train Epoch: 45 [0/10 (0%)]\tLoss: 0.003223\n",
      "\n",
      "Val set: Average loss: 2.2862, Accuracy: 743/1000 (74.30%)\n",
      "\n",
      "Num Samples For Training 10 Num Samples For Val 1000\n",
      "Train Epoch: 0 [0/10 (0%)]\tLoss: 0.692818\n",
      "Train Epoch: 5 [0/10 (0%)]\tLoss: 0.681585\n",
      "Train Epoch: 10 [0/10 (0%)]\tLoss: 0.656795\n",
      "Train Epoch: 15 [0/10 (0%)]\tLoss: 0.594814\n",
      "Train Epoch: 20 [0/10 (0%)]\tLoss: 0.459187\n",
      "Train Epoch: 25 [0/10 (0%)]\tLoss: 0.253032\n",
      "Train Epoch: 30 [0/10 (0%)]\tLoss: 0.084869\n",
      "Train Epoch: 35 [0/10 (0%)]\tLoss: 0.018891\n",
      "Train Epoch: 40 [0/10 (0%)]\tLoss: 0.003129\n",
      "Train Epoch: 45 [0/10 (0%)]\tLoss: 0.000628\n",
      "\n",
      "Val set: Average loss: 1.0866, Accuracy: 837/1000 (83.70%)\n",
      "\n",
      "Num Samples For Training 10 Num Samples For Val 1000\n",
      "Train Epoch: 0 [0/10 (0%)]\tLoss: 0.693062\n",
      "Train Epoch: 5 [0/10 (0%)]\tLoss: 0.665608\n",
      "Train Epoch: 10 [0/10 (0%)]\tLoss: 0.600128\n",
      "Train Epoch: 15 [0/10 (0%)]\tLoss: 0.456448\n",
      "Train Epoch: 20 [0/10 (0%)]\tLoss: 0.218522\n",
      "Train Epoch: 25 [0/10 (0%)]\tLoss: 0.044205\n",
      "Train Epoch: 30 [0/10 (0%)]\tLoss: 0.004070\n",
      "Train Epoch: 35 [0/10 (0%)]\tLoss: 0.000325\n",
      "Train Epoch: 40 [0/10 (0%)]\tLoss: 0.000040\n",
      "Train Epoch: 45 [0/10 (0%)]\tLoss: 0.000009\n",
      "\n",
      "Val set: Average loss: 1.3842, Accuracy: 783/1000 (78.30%)\n",
      "\n",
      "Num Samples For Training 10 Num Samples For Val 1000\n",
      "Train Epoch: 0 [0/10 (0%)]\tLoss: 0.693078\n",
      "Train Epoch: 5 [0/10 (0%)]\tLoss: 0.683081\n",
      "Train Epoch: 10 [0/10 (0%)]\tLoss: 0.658511\n",
      "Train Epoch: 15 [0/10 (0%)]\tLoss: 0.598521\n",
      "Train Epoch: 20 [0/10 (0%)]\tLoss: 0.497202\n",
      "Train Epoch: 25 [0/10 (0%)]\tLoss: 0.404749\n",
      "Train Epoch: 30 [0/10 (0%)]\tLoss: 0.305665\n",
      "Train Epoch: 35 [0/10 (0%)]\tLoss: 0.181851\n",
      "Train Epoch: 40 [0/10 (0%)]\tLoss: 0.074098\n",
      "Train Epoch: 45 [0/10 (0%)]\tLoss: 0.019695\n",
      "\n",
      "Val set: Average loss: 1.0048, Accuracy: 697/1000 (69.70%)\n",
      "\n",
      "Num Samples For Training 10 Num Samples For Val 1000\n",
      "Train Epoch: 0 [0/10 (0%)]\tLoss: 0.692907\n",
      "Train Epoch: 5 [0/10 (0%)]\tLoss: 0.680843\n",
      "Train Epoch: 10 [0/10 (0%)]\tLoss: 0.655802\n",
      "Train Epoch: 15 [0/10 (0%)]\tLoss: 0.597342\n",
      "Train Epoch: 20 [0/10 (0%)]\tLoss: 0.480444\n",
      "Train Epoch: 25 [0/10 (0%)]\tLoss: 0.302514\n",
      "Train Epoch: 30 [0/10 (0%)]\tLoss: 0.155946\n",
      "Train Epoch: 35 [0/10 (0%)]\tLoss: 0.056599\n",
      "Train Epoch: 40 [0/10 (0%)]\tLoss: 0.014319\n",
      "Train Epoch: 45 [0/10 (0%)]\tLoss: 0.003231\n",
      "\n",
      "Val set: Average loss: 1.2344, Accuracy: 759/1000 (75.90%)\n",
      "\n",
      "Num Samples For Training 10 Num Samples For Val 1000\n",
      "Train Epoch: 0 [0/10 (0%)]\tLoss: 0.692401\n",
      "Train Epoch: 5 [0/10 (0%)]\tLoss: 0.681105\n",
      "Train Epoch: 10 [0/10 (0%)]\tLoss: 0.655626\n",
      "Train Epoch: 15 [0/10 (0%)]\tLoss: 0.595512\n",
      "Train Epoch: 20 [0/10 (0%)]\tLoss: 0.468970\n",
      "Train Epoch: 25 [0/10 (0%)]\tLoss: 0.278880\n",
      "Train Epoch: 30 [0/10 (0%)]\tLoss: 0.127361\n",
      "Train Epoch: 35 [0/10 (0%)]\tLoss: 0.041860\n",
      "Train Epoch: 40 [0/10 (0%)]\tLoss: 0.010487\n",
      "Train Epoch: 45 [0/10 (0%)]\tLoss: 0.002327\n",
      "\n",
      "Val set: Average loss: 1.2895, Accuracy: 796/1000 (79.60%)\n",
      "\n",
      "Num Samples For Training 10 Num Samples For Val 1000\n",
      "Train Epoch: 0 [0/10 (0%)]\tLoss: 0.693939\n",
      "Train Epoch: 5 [0/10 (0%)]\tLoss: 0.681589\n",
      "Train Epoch: 10 [0/10 (0%)]\tLoss: 0.656527\n",
      "Train Epoch: 15 [0/10 (0%)]\tLoss: 0.591503\n",
      "Train Epoch: 20 [0/10 (0%)]\tLoss: 0.453789\n",
      "Train Epoch: 25 [0/10 (0%)]\tLoss: 0.266260\n",
      "Train Epoch: 30 [0/10 (0%)]\tLoss: 0.111129\n",
      "Train Epoch: 35 [0/10 (0%)]\tLoss: 0.023581\n",
      "Train Epoch: 40 [0/10 (0%)]\tLoss: 0.003078\n",
      "Train Epoch: 45 [0/10 (0%)]\tLoss: 0.000483\n",
      "\n",
      "Val set: Average loss: 1.1105, Accuracy: 811/1000 (81.10%)\n",
      "\n",
      "Num Samples For Training 10 Num Samples For Val 1000\n",
      "Train Epoch: 0 [0/10 (0%)]\tLoss: 0.693327\n",
      "Train Epoch: 5 [0/10 (0%)]\tLoss: 0.686053\n",
      "Train Epoch: 10 [0/10 (0%)]\tLoss: 0.670889\n",
      "Train Epoch: 15 [0/10 (0%)]\tLoss: 0.632559\n",
      "Train Epoch: 20 [0/10 (0%)]\tLoss: 0.546783\n",
      "Train Epoch: 25 [0/10 (0%)]\tLoss: 0.393359\n",
      "Train Epoch: 30 [0/10 (0%)]\tLoss: 0.218412\n",
      "Train Epoch: 35 [0/10 (0%)]\tLoss: 0.122153\n",
      "Train Epoch: 40 [0/10 (0%)]\tLoss: 0.073465\n",
      "Train Epoch: 45 [0/10 (0%)]\tLoss: 0.041026\n",
      "\n",
      "Val set: Average loss: 2.0344, Accuracy: 728/1000 (72.80%)\n",
      "\n",
      "Num Samples For Training 10 Num Samples For Val 1000\n",
      "Train Epoch: 0 [0/10 (0%)]\tLoss: 0.693802\n",
      "Train Epoch: 5 [0/10 (0%)]\tLoss: 0.678158\n",
      "Train Epoch: 10 [0/10 (0%)]\tLoss: 0.644263\n",
      "Train Epoch: 15 [0/10 (0%)]\tLoss: 0.567309\n",
      "Train Epoch: 20 [0/10 (0%)]\tLoss: 0.422961\n",
      "Train Epoch: 25 [0/10 (0%)]\tLoss: 0.248913\n",
      "Train Epoch: 30 [0/10 (0%)]\tLoss: 0.111241\n",
      "Train Epoch: 35 [0/10 (0%)]\tLoss: 0.030209\n",
      "Train Epoch: 40 [0/10 (0%)]\tLoss: 0.006166\n",
      "Train Epoch: 45 [0/10 (0%)]\tLoss: 0.001305\n",
      "\n",
      "Val set: Average loss: 0.5599, Accuracy: 869/1000 (86.90%)\n",
      "\n",
      "Num Samples For Training 10 Num Samples For Val 1000\n",
      "Train Epoch: 0 [0/10 (0%)]\tLoss: 0.693597\n",
      "Train Epoch: 5 [0/10 (0%)]\tLoss: 0.686591\n",
      "Train Epoch: 10 [0/10 (0%)]\tLoss: 0.669493\n",
      "Train Epoch: 15 [0/10 (0%)]\tLoss: 0.632179\n",
      "Train Epoch: 20 [0/10 (0%)]\tLoss: 0.558628\n",
      "Train Epoch: 25 [0/10 (0%)]\tLoss: 0.429340\n",
      "Train Epoch: 30 [0/10 (0%)]\tLoss: 0.257616\n",
      "Train Epoch: 35 [0/10 (0%)]\tLoss: 0.112607\n",
      "Train Epoch: 40 [0/10 (0%)]\tLoss: 0.038587\n",
      "Train Epoch: 45 [0/10 (0%)]\tLoss: 0.009681\n",
      "\n",
      "Val set: Average loss: 3.0384, Accuracy: 641/1000 (64.10%)\n",
      "\n",
      "Num Samples For Training 10 Num Samples For Val 1000\n",
      "Train Epoch: 0 [0/10 (0%)]\tLoss: 0.695058\n",
      "Train Epoch: 5 [0/10 (0%)]\tLoss: 0.685688\n",
      "Train Epoch: 10 [0/10 (0%)]\tLoss: 0.664939\n",
      "Train Epoch: 15 [0/10 (0%)]\tLoss: 0.607765\n",
      "Train Epoch: 20 [0/10 (0%)]\tLoss: 0.488139\n",
      "Train Epoch: 25 [0/10 (0%)]\tLoss: 0.319646\n",
      "Train Epoch: 30 [0/10 (0%)]\tLoss: 0.190195\n",
      "Train Epoch: 35 [0/10 (0%)]\tLoss: 0.068592\n",
      "Train Epoch: 40 [0/10 (0%)]\tLoss: 0.016267\n",
      "Train Epoch: 45 [0/10 (0%)]\tLoss: 0.002681\n",
      "\n",
      "Val set: Average loss: 0.8170, Accuracy: 819/1000 (81.90%)\n",
      "\n",
      "Num Samples For Training 10 Num Samples For Val 1000\n",
      "Train Epoch: 0 [0/10 (0%)]\tLoss: 0.692611\n",
      "Train Epoch: 5 [0/10 (0%)]\tLoss: 0.678736\n",
      "Train Epoch: 10 [0/10 (0%)]\tLoss: 0.637286\n",
      "Train Epoch: 15 [0/10 (0%)]\tLoss: 0.535612\n",
      "Train Epoch: 20 [0/10 (0%)]\tLoss: 0.354848\n",
      "Train Epoch: 25 [0/10 (0%)]\tLoss: 0.143678\n",
      "Train Epoch: 30 [0/10 (0%)]\tLoss: 0.035247\n",
      "Train Epoch: 35 [0/10 (0%)]\tLoss: 0.006156\n",
      "Train Epoch: 40 [0/10 (0%)]\tLoss: 0.001145\n",
      "Train Epoch: 45 [0/10 (0%)]\tLoss: 0.000275\n",
      "\n",
      "Val set: Average loss: 1.0399, Accuracy: 860/1000 (86.00%)\n",
      "\n",
      "Num Samples For Training 10 Num Samples For Val 1000\n",
      "Train Epoch: 0 [0/10 (0%)]\tLoss: 0.693508\n",
      "Train Epoch: 5 [0/10 (0%)]\tLoss: 0.683349\n",
      "Train Epoch: 10 [0/10 (0%)]\tLoss: 0.659905\n",
      "Train Epoch: 15 [0/10 (0%)]\tLoss: 0.602330\n",
      "Train Epoch: 20 [0/10 (0%)]\tLoss: 0.482223\n",
      "Train Epoch: 25 [0/10 (0%)]\tLoss: 0.315482\n",
      "Train Epoch: 30 [0/10 (0%)]\tLoss: 0.165053\n",
      "Train Epoch: 35 [0/10 (0%)]\tLoss: 0.052724\n",
      "Train Epoch: 40 [0/10 (0%)]\tLoss: 0.008727\n",
      "Train Epoch: 45 [0/10 (0%)]\tLoss: 0.001486\n",
      "\n",
      "Val set: Average loss: 0.6609, Accuracy: 888/1000 (88.80%)\n",
      "\n",
      "Num Samples For Training 10 Num Samples For Val 1000\n",
      "Train Epoch: 0 [0/10 (0%)]\tLoss: 0.691911\n",
      "Train Epoch: 5 [0/10 (0%)]\tLoss: 0.671904\n",
      "Train Epoch: 10 [0/10 (0%)]\tLoss: 0.610857\n",
      "Train Epoch: 15 [0/10 (0%)]\tLoss: 0.454180\n",
      "Train Epoch: 20 [0/10 (0%)]\tLoss: 0.221756\n",
      "Train Epoch: 25 [0/10 (0%)]\tLoss: 0.085862\n",
      "Train Epoch: 30 [0/10 (0%)]\tLoss: 0.020326\n",
      "Train Epoch: 35 [0/10 (0%)]\tLoss: 0.003051\n",
      "Train Epoch: 40 [0/10 (0%)]\tLoss: 0.000547\n",
      "Train Epoch: 45 [0/10 (0%)]\tLoss: 0.000151\n",
      "\n",
      "Val set: Average loss: 2.1956, Accuracy: 752/1000 (75.20%)\n",
      "\n",
      "Num Samples For Training 10 Num Samples For Val 1000\n",
      "Train Epoch: 0 [0/10 (0%)]\tLoss: 0.693581\n",
      "Train Epoch: 5 [0/10 (0%)]\tLoss: 0.682207\n",
      "Train Epoch: 10 [0/10 (0%)]\tLoss: 0.653736\n",
      "Train Epoch: 15 [0/10 (0%)]\tLoss: 0.590057\n",
      "Train Epoch: 20 [0/10 (0%)]\tLoss: 0.469559\n",
      "Train Epoch: 25 [0/10 (0%)]\tLoss: 0.269086\n",
      "Train Epoch: 30 [0/10 (0%)]\tLoss: 0.084821\n",
      "Train Epoch: 35 [0/10 (0%)]\tLoss: 0.014619\n",
      "Train Epoch: 40 [0/10 (0%)]\tLoss: 0.001843\n",
      "Train Epoch: 45 [0/10 (0%)]\tLoss: 0.000317\n",
      "\n",
      "Val set: Average loss: 0.7598, Accuracy: 851/1000 (85.10%)\n",
      "\n",
      "Num Samples For Training 10 Num Samples For Val 1000\n",
      "Train Epoch: 0 [0/10 (0%)]\tLoss: 0.694792\n",
      "Train Epoch: 5 [0/10 (0%)]\tLoss: 0.683554\n",
      "Train Epoch: 10 [0/10 (0%)]\tLoss: 0.659971\n",
      "Train Epoch: 15 [0/10 (0%)]\tLoss: 0.599549\n",
      "Train Epoch: 20 [0/10 (0%)]\tLoss: 0.468145\n",
      "Train Epoch: 25 [0/10 (0%)]\tLoss: 0.265581\n",
      "Train Epoch: 30 [0/10 (0%)]\tLoss: 0.092456\n",
      "Train Epoch: 35 [0/10 (0%)]\tLoss: 0.018271\n",
      "Train Epoch: 40 [0/10 (0%)]\tLoss: 0.002922\n",
      "Train Epoch: 45 [0/10 (0%)]\tLoss: 0.000636\n",
      "\n",
      "Val set: Average loss: 1.3275, Accuracy: 797/1000 (79.70%)\n",
      "\n",
      "Num Samples For Training 10 Num Samples For Val 1000\n",
      "Train Epoch: 0 [0/10 (0%)]\tLoss: 0.694111\n",
      "Train Epoch: 5 [0/10 (0%)]\tLoss: 0.688586\n",
      "Train Epoch: 10 [0/10 (0%)]\tLoss: 0.675207\n",
      "Train Epoch: 15 [0/10 (0%)]\tLoss: 0.640166\n",
      "Train Epoch: 20 [0/10 (0%)]\tLoss: 0.560394\n",
      "Train Epoch: 25 [0/10 (0%)]\tLoss: 0.412883\n",
      "Train Epoch: 30 [0/10 (0%)]\tLoss: 0.208841\n",
      "Train Epoch: 35 [0/10 (0%)]\tLoss: 0.062962\n",
      "Train Epoch: 40 [0/10 (0%)]\tLoss: 0.010605\n",
      "Train Epoch: 45 [0/10 (0%)]\tLoss: 0.001535\n",
      "\n",
      "Val set: Average loss: 1.4111, Accuracy: 746/1000 (74.60%)\n",
      "\n",
      "Num Samples For Training 10 Num Samples For Val 1000\n",
      "Train Epoch: 0 [0/10 (0%)]\tLoss: 0.692575\n",
      "Train Epoch: 5 [0/10 (0%)]\tLoss: 0.680454\n",
      "Train Epoch: 10 [0/10 (0%)]\tLoss: 0.650650\n",
      "Train Epoch: 15 [0/10 (0%)]\tLoss: 0.576871\n",
      "Train Epoch: 20 [0/10 (0%)]\tLoss: 0.433693\n",
      "Train Epoch: 25 [0/10 (0%)]\tLoss: 0.259714\n",
      "Train Epoch: 30 [0/10 (0%)]\tLoss: 0.096911\n",
      "Train Epoch: 35 [0/10 (0%)]\tLoss: 0.023015\n",
      "Train Epoch: 40 [0/10 (0%)]\tLoss: 0.004349\n",
      "Train Epoch: 45 [0/10 (0%)]\tLoss: 0.000936\n",
      "\n",
      "Val set: Average loss: 0.6916, Accuracy: 869/1000 (86.90%)\n",
      "\n",
      "Num Samples For Training 10 Num Samples For Val 1000\n",
      "Train Epoch: 0 [0/10 (0%)]\tLoss: 0.694580\n",
      "Train Epoch: 5 [0/10 (0%)]\tLoss: 0.681091\n",
      "Train Epoch: 10 [0/10 (0%)]\tLoss: 0.648229\n",
      "Train Epoch: 15 [0/10 (0%)]\tLoss: 0.568176\n",
      "Train Epoch: 20 [0/10 (0%)]\tLoss: 0.441861\n",
      "Train Epoch: 25 [0/10 (0%)]\tLoss: 0.342947\n",
      "Train Epoch: 30 [0/10 (0%)]\tLoss: 0.228198\n",
      "Train Epoch: 35 [0/10 (0%)]\tLoss: 0.102210\n",
      "Train Epoch: 40 [0/10 (0%)]\tLoss: 0.027565\n",
      "Train Epoch: 45 [0/10 (0%)]\tLoss: 0.004715\n",
      "\n",
      "Val set: Average loss: 0.8791, Accuracy: 777/1000 (77.70%)\n",
      "\n",
      "Num Samples For Training 10 Num Samples For Val 1000\n",
      "Train Epoch: 0 [0/10 (0%)]\tLoss: 0.693033\n",
      "Train Epoch: 5 [0/10 (0%)]\tLoss: 0.683231\n",
      "Train Epoch: 10 [0/10 (0%)]\tLoss: 0.660447\n",
      "Train Epoch: 15 [0/10 (0%)]\tLoss: 0.606422\n",
      "Train Epoch: 20 [0/10 (0%)]\tLoss: 0.508725\n",
      "Train Epoch: 25 [0/10 (0%)]\tLoss: 0.379138\n",
      "Train Epoch: 30 [0/10 (0%)]\tLoss: 0.212668\n",
      "Train Epoch: 35 [0/10 (0%)]\tLoss: 0.068274\n",
      "Train Epoch: 40 [0/10 (0%)]\tLoss: 0.010802\n",
      "Train Epoch: 45 [0/10 (0%)]\tLoss: 0.001276\n",
      "\n",
      "Val set: Average loss: 1.1697, Accuracy: 779/1000 (77.90%)\n",
      "\n",
      "Num Samples For Training 10 Num Samples For Val 1000\n",
      "Train Epoch: 0 [0/10 (0%)]\tLoss: 0.692697\n",
      "Train Epoch: 5 [0/10 (0%)]\tLoss: 0.680585\n",
      "Train Epoch: 10 [0/10 (0%)]\tLoss: 0.649569\n",
      "Train Epoch: 15 [0/10 (0%)]\tLoss: 0.573081\n",
      "Train Epoch: 20 [0/10 (0%)]\tLoss: 0.422797\n",
      "Train Epoch: 25 [0/10 (0%)]\tLoss: 0.238896\n",
      "Train Epoch: 30 [0/10 (0%)]\tLoss: 0.114355\n",
      "Train Epoch: 35 [0/10 (0%)]\tLoss: 0.046495\n",
      "Train Epoch: 40 [0/10 (0%)]\tLoss: 0.009856\n",
      "Train Epoch: 45 [0/10 (0%)]\tLoss: 0.001167\n",
      "\n",
      "Val set: Average loss: 1.2060, Accuracy: 747/1000 (74.70%)\n",
      "\n",
      "Num Samples For Training 10 Num Samples For Val 1000\n",
      "Train Epoch: 0 [0/10 (0%)]\tLoss: 0.693495\n",
      "Train Epoch: 5 [0/10 (0%)]\tLoss: 0.682005\n",
      "Train Epoch: 10 [0/10 (0%)]\tLoss: 0.656659\n",
      "Train Epoch: 15 [0/10 (0%)]\tLoss: 0.600711\n",
      "Train Epoch: 20 [0/10 (0%)]\tLoss: 0.480499\n",
      "Train Epoch: 25 [0/10 (0%)]\tLoss: 0.279863\n",
      "Train Epoch: 30 [0/10 (0%)]\tLoss: 0.085806\n",
      "Train Epoch: 35 [0/10 (0%)]\tLoss: 0.011856\n",
      "Train Epoch: 40 [0/10 (0%)]\tLoss: 0.001213\n",
      "Train Epoch: 45 [0/10 (0%)]\tLoss: 0.000172\n",
      "\n",
      "Val set: Average loss: 0.6953, Accuracy: 852/1000 (85.20%)\n",
      "\n",
      "Num Samples For Training 10 Num Samples For Val 1000\n",
      "Train Epoch: 0 [0/10 (0%)]\tLoss: 0.693749\n",
      "Train Epoch: 5 [0/10 (0%)]\tLoss: 0.678254\n",
      "Train Epoch: 10 [0/10 (0%)]\tLoss: 0.639610\n",
      "Train Epoch: 15 [0/10 (0%)]\tLoss: 0.543177\n",
      "Train Epoch: 20 [0/10 (0%)]\tLoss: 0.349545\n",
      "Train Epoch: 25 [0/10 (0%)]\tLoss: 0.123727\n",
      "Train Epoch: 30 [0/10 (0%)]\tLoss: 0.019738\n",
      "Train Epoch: 35 [0/10 (0%)]\tLoss: 0.001834\n",
      "Train Epoch: 40 [0/10 (0%)]\tLoss: 0.000201\n",
      "Train Epoch: 45 [0/10 (0%)]\tLoss: 0.000036\n",
      "\n",
      "Val set: Average loss: 1.8829, Accuracy: 768/1000 (76.80%)\n",
      "\n",
      "Num Samples For Training 10 Num Samples For Val 1000\n",
      "Train Epoch: 0 [0/10 (0%)]\tLoss: 0.692390\n",
      "Train Epoch: 5 [0/10 (0%)]\tLoss: 0.672498\n",
      "Train Epoch: 10 [0/10 (0%)]\tLoss: 0.633972\n",
      "Train Epoch: 15 [0/10 (0%)]\tLoss: 0.558678\n",
      "Train Epoch: 20 [0/10 (0%)]\tLoss: 0.411812\n",
      "Train Epoch: 25 [0/10 (0%)]\tLoss: 0.210194\n",
      "Train Epoch: 30 [0/10 (0%)]\tLoss: 0.066802\n",
      "Train Epoch: 35 [0/10 (0%)]\tLoss: 0.014908\n",
      "Train Epoch: 40 [0/10 (0%)]\tLoss: 0.002866\n",
      "Train Epoch: 45 [0/10 (0%)]\tLoss: 0.000646\n",
      "\n",
      "Val set: Average loss: 1.0091, Accuracy: 838/1000 (83.80%)\n",
      "\n",
      "Num Samples For Training 10 Num Samples For Val 1000\n",
      "Train Epoch: 0 [0/10 (0%)]\tLoss: 0.693683\n",
      "Train Epoch: 5 [0/10 (0%)]\tLoss: 0.687171\n",
      "Train Epoch: 10 [0/10 (0%)]\tLoss: 0.672640\n",
      "Train Epoch: 15 [0/10 (0%)]\tLoss: 0.630247\n",
      "Train Epoch: 20 [0/10 (0%)]\tLoss: 0.525211\n",
      "Train Epoch: 25 [0/10 (0%)]\tLoss: 0.354060\n",
      "Train Epoch: 30 [0/10 (0%)]\tLoss: 0.195457\n",
      "Train Epoch: 35 [0/10 (0%)]\tLoss: 0.087659\n",
      "Train Epoch: 40 [0/10 (0%)]\tLoss: 0.024812\n",
      "Train Epoch: 45 [0/10 (0%)]\tLoss: 0.004951\n",
      "\n",
      "Val set: Average loss: 2.4676, Accuracy: 756/1000 (75.60%)\n",
      "\n",
      "Num Samples For Training 10 Num Samples For Val 1000\n",
      "Train Epoch: 0 [0/10 (0%)]\tLoss: 0.692463\n",
      "Train Epoch: 5 [0/10 (0%)]\tLoss: 0.682796\n",
      "Train Epoch: 10 [0/10 (0%)]\tLoss: 0.656680\n",
      "Train Epoch: 15 [0/10 (0%)]\tLoss: 0.588457\n",
      "Train Epoch: 20 [0/10 (0%)]\tLoss: 0.452819\n",
      "Train Epoch: 25 [0/10 (0%)]\tLoss: 0.293101\n",
      "Train Epoch: 30 [0/10 (0%)]\tLoss: 0.182803\n",
      "Train Epoch: 35 [0/10 (0%)]\tLoss: 0.091113\n",
      "Train Epoch: 40 [0/10 (0%)]\tLoss: 0.031424\n",
      "Train Epoch: 45 [0/10 (0%)]\tLoss: 0.007946\n",
      "\n",
      "Val set: Average loss: 1.3076, Accuracy: 814/1000 (81.40%)\n",
      "\n",
      "Num Samples For Training 10 Num Samples For Val 1000\n",
      "Train Epoch: 0 [0/10 (0%)]\tLoss: 0.694183\n",
      "Train Epoch: 5 [0/10 (0%)]\tLoss: 0.681140\n",
      "Train Epoch: 10 [0/10 (0%)]\tLoss: 0.649226\n",
      "Train Epoch: 15 [0/10 (0%)]\tLoss: 0.568644\n",
      "Train Epoch: 20 [0/10 (0%)]\tLoss: 0.404266\n",
      "Train Epoch: 25 [0/10 (0%)]\tLoss: 0.197808\n",
      "Train Epoch: 30 [0/10 (0%)]\tLoss: 0.060704\n",
      "Train Epoch: 35 [0/10 (0%)]\tLoss: 0.011192\n",
      "Train Epoch: 40 [0/10 (0%)]\tLoss: 0.001687\n",
      "Train Epoch: 45 [0/10 (0%)]\tLoss: 0.000316\n",
      "\n",
      "Val set: Average loss: 1.6780, Accuracy: 803/1000 (80.30%)\n",
      "\n",
      "Num Samples For Training 10 Num Samples For Val 1000\n",
      "Train Epoch: 0 [0/10 (0%)]\tLoss: 0.694077\n",
      "Train Epoch: 5 [0/10 (0%)]\tLoss: 0.678258\n",
      "Train Epoch: 10 [0/10 (0%)]\tLoss: 0.641666\n",
      "Train Epoch: 15 [0/10 (0%)]\tLoss: 0.557883\n",
      "Train Epoch: 20 [0/10 (0%)]\tLoss: 0.411727\n",
      "Train Epoch: 25 [0/10 (0%)]\tLoss: 0.239980\n",
      "Train Epoch: 30 [0/10 (0%)]\tLoss: 0.079236\n",
      "Train Epoch: 35 [0/10 (0%)]\tLoss: 0.012088\n",
      "Train Epoch: 40 [0/10 (0%)]\tLoss: 0.001370\n",
      "Train Epoch: 45 [0/10 (0%)]\tLoss: 0.000254\n",
      "\n",
      "Val set: Average loss: 0.9528, Accuracy: 809/1000 (80.90%)\n",
      "\n",
      "Num Samples For Training 10 Num Samples For Val 1000\n",
      "Train Epoch: 0 [0/10 (0%)]\tLoss: 0.694957\n",
      "Train Epoch: 5 [0/10 (0%)]\tLoss: 0.681891\n",
      "Train Epoch: 10 [0/10 (0%)]\tLoss: 0.650471\n",
      "Train Epoch: 15 [0/10 (0%)]\tLoss: 0.571540\n",
      "Train Epoch: 20 [0/10 (0%)]\tLoss: 0.415996\n",
      "Train Epoch: 25 [0/10 (0%)]\tLoss: 0.246167\n",
      "Train Epoch: 30 [0/10 (0%)]\tLoss: 0.093022\n",
      "Train Epoch: 35 [0/10 (0%)]\tLoss: 0.017582\n",
      "Train Epoch: 40 [0/10 (0%)]\tLoss: 0.003309\n",
      "Train Epoch: 45 [0/10 (0%)]\tLoss: 0.000617\n",
      "\n",
      "Val set: Average loss: 0.5138, Accuracy: 882/1000 (88.20%)\n",
      "\n",
      "Num Samples For Training 10 Num Samples For Val 1000\n",
      "Train Epoch: 0 [0/10 (0%)]\tLoss: 0.692506\n",
      "Train Epoch: 5 [0/10 (0%)]\tLoss: 0.660053\n",
      "Train Epoch: 10 [0/10 (0%)]\tLoss: 0.568920\n",
      "Train Epoch: 15 [0/10 (0%)]\tLoss: 0.362342\n",
      "Train Epoch: 20 [0/10 (0%)]\tLoss: 0.140454\n",
      "Train Epoch: 25 [0/10 (0%)]\tLoss: 0.047261\n",
      "Train Epoch: 30 [0/10 (0%)]\tLoss: 0.009422\n",
      "Train Epoch: 35 [0/10 (0%)]\tLoss: 0.001513\n",
      "Train Epoch: 40 [0/10 (0%)]\tLoss: 0.000314\n",
      "Train Epoch: 45 [0/10 (0%)]\tLoss: 0.000091\n",
      "\n",
      "Val set: Average loss: 2.1724, Accuracy: 708/1000 (70.80%)\n",
      "\n",
      "Num Samples For Training 10 Num Samples For Val 1000\n",
      "Train Epoch: 0 [0/10 (0%)]\tLoss: 0.692958\n",
      "Train Epoch: 5 [0/10 (0%)]\tLoss: 0.679735\n",
      "Train Epoch: 10 [0/10 (0%)]\tLoss: 0.639092\n",
      "Train Epoch: 15 [0/10 (0%)]\tLoss: 0.534508\n",
      "Train Epoch: 20 [0/10 (0%)]\tLoss: 0.387059\n",
      "Train Epoch: 25 [0/10 (0%)]\tLoss: 0.220366\n",
      "Train Epoch: 30 [0/10 (0%)]\tLoss: 0.099452\n",
      "Train Epoch: 35 [0/10 (0%)]\tLoss: 0.044907\n",
      "Train Epoch: 40 [0/10 (0%)]\tLoss: 0.014602\n",
      "Train Epoch: 45 [0/10 (0%)]\tLoss: 0.003789\n",
      "\n",
      "Val set: Average loss: 5.7550, Accuracy: 697/1000 (69.70%)\n",
      "\n",
      "Num Samples For Training 10 Num Samples For Val 1000\n",
      "Train Epoch: 0 [0/10 (0%)]\tLoss: 0.693027\n",
      "Train Epoch: 5 [0/10 (0%)]\tLoss: 0.683042\n",
      "Train Epoch: 10 [0/10 (0%)]\tLoss: 0.659753\n",
      "Train Epoch: 15 [0/10 (0%)]\tLoss: 0.604678\n",
      "Train Epoch: 20 [0/10 (0%)]\tLoss: 0.488856\n",
      "Train Epoch: 25 [0/10 (0%)]\tLoss: 0.299158\n",
      "Train Epoch: 30 [0/10 (0%)]\tLoss: 0.112982\n",
      "Train Epoch: 35 [0/10 (0%)]\tLoss: 0.024182\n",
      "Train Epoch: 40 [0/10 (0%)]\tLoss: 0.003599\n",
      "Train Epoch: 45 [0/10 (0%)]\tLoss: 0.000581\n",
      "\n",
      "Val set: Average loss: 1.2488, Accuracy: 739/1000 (73.90%)\n",
      "\n",
      "Num Samples For Training 10 Num Samples For Val 1000\n",
      "Train Epoch: 0 [0/10 (0%)]\tLoss: 0.692175\n",
      "Train Epoch: 5 [0/10 (0%)]\tLoss: 0.673720\n",
      "Train Epoch: 10 [0/10 (0%)]\tLoss: 0.627739\n",
      "Train Epoch: 15 [0/10 (0%)]\tLoss: 0.559127\n",
      "Train Epoch: 20 [0/10 (0%)]\tLoss: 0.503367\n",
      "Train Epoch: 25 [0/10 (0%)]\tLoss: 0.432453\n",
      "Train Epoch: 30 [0/10 (0%)]\tLoss: 0.349775\n",
      "Train Epoch: 35 [0/10 (0%)]\tLoss: 0.249787\n",
      "Train Epoch: 40 [0/10 (0%)]\tLoss: 0.138251\n",
      "Train Epoch: 45 [0/10 (0%)]\tLoss: 0.046354\n",
      "\n",
      "Val set: Average loss: 0.4407, Accuracy: 863/1000 (86.30%)\n",
      "\n",
      "Val acc over 5 instances on dataset: pneumoniamnist 79.83 +- 5.72 (var: 32.68)\n",
      "CPU times: total: 1min 12s\n",
      "Wall time: 43.8 s\n"
     ]
    }
   ],
   "source": [
    "%%time\n",
    "torch.manual_seed(0)\n",
    "torch.backends.cudnn.deterministic = True\n",
    "torch.backends.cudnn.benchmark = False\n",
    "random.seed(0)\n",
    "np.random.seed(0)\n",
    "\n",
    "# preprocessing\n",
    "data_flag = 'pneumoniamnist'\n",
    "\n",
    "download = True\n",
    "\n",
    "info = INFO[data_flag]\n",
    "n_classes = len(info['label'])\n",
    "DataClass = getattr(medmnist, info['python_class'])\n",
    "\n",
    "data_transform = transforms.Compose([\n",
    "      transforms.ToTensor(),\n",
    "      transforms.Normalize(mean=[.5], std=[.5]),\n",
    "      ])\n",
    "\n",
    "use_cuda = torch.cuda.is_available()\n",
    "device = torch.device(\"cuda\" if use_cuda else \"cpu\")\n",
    "\n",
    "# load the data\n",
    "train_dataset = DataClass(split='train', transform=data_transform, download=download)\n",
    "val_dataset = DataClass(split='train', transform=data_transform, download=download)\n",
    "\n",
    "accs_val = []\n",
    "\n",
    "for seed in  range(0, 50):\n",
    "  prng = RandomState(seed)\n",
    "  random_permute = prng.permutation(np.arange(0, 1000))\n",
    "  train_top = 10//n_classes\n",
    "  val_top = 1000//n_classes\n",
    "  indx_train = np.concatenate([np.where(train_dataset.labels == label)[0][random_permute[0:train_top]] for label in range(0, n_classes)])\n",
    "  indx_val = np.concatenate([np.where(train_dataset.labels == label)[0][random_permute[train_top:train_top + val_top]] for label in range(0, n_classes)])\n",
    "\n",
    "  train_data = Subset(train_dataset, indx_train)\n",
    "  val_data = Subset(val_dataset, indx_val)\n",
    "\n",
    "  print('Num Samples For Training %d Num Samples For Val %d'%(train_data.indices.shape[0],val_data.indices.shape[0]))\n",
    "\n",
    "  train_loader = torch.utils.data.DataLoader(train_data,\n",
    "                                             batch_size=32, \n",
    "                                             shuffle=True)\n",
    "\n",
    "  val_loader = torch.utils.data.DataLoader(val_data,\n",
    "                                             batch_size=128, \n",
    "                                             shuffle=False)\n",
    "\n",
    "  model = Net()\n",
    "  model.to(device)\n",
    "\n",
    "  optimizer = torch.optim.Adam(model.parameters(),lr=1e-3)\n",
    "\n",
    "  for epoch in range(50):\n",
    "    train(model, device, train_loader, optimizer, epoch, display=epoch%5==0)\n",
    "  accs_val.append(test(model, device, val_loader))\n",
    "\n",
    "accs_val = np.array(accs_val)\n",
    "\n",
    "print('Val acc over 5 instances on dataset: %s %.2f +- %.2f (var: %.2f)'%(data_flag, accs_val.mean(), accs_val.std(), accs_val.var()))\n",
    "     "
   ]
  },
  {
   "cell_type": "code",
   "execution_count": 5,
   "metadata": {},
   "outputs": [
    {
     "data": {
      "image/png": "[encoded data removed]",
      "text/plain": [
       "<Figure size 640x480 with 1 Axes>"
      ]
     },
     "metadata": {},
     "output_type": "display_data"
    }
   ],
   "source": [
    "import matplotlib.pyplot as plt\n",
    "\n",
    "plt.plot(accs_val)\n",
    "plt.xlabel('seeds')\n",
    "plt.ylabel('accuracy')\n",
    "plt.title('Validation set over 50 seeds for Net()');\n",
    "plt.savefig('C1val50seeds_net.png')"
   ]
  },
  {
   "cell_type": "code",
   "execution_count": 6,
   "metadata": {},
   "outputs": [],
   "source": [
    "def resNet18():\n",
    "    resNet18 = torch.hub.load('pytorch/vision:v0.10.0', 'resnet18', pretrained=False)\n",
    "    resNet18.conv1 = nn.Conv2d(1, 64, kernel_size=(7, 7), stride=(2, 2), padding=(3, 3), bias=False)\n",
    "    resNet18.fc = nn.Linear(in_features=512, out_features=1, bias=True)\n",
    "    return resNet18"
   ]
  },
  {
   "cell_type": "code",
   "execution_count": 7,
   "metadata": {},
   "outputs": [
    {
     "name": "stdout",
     "output_type": "stream",
     "text": [
      "Using downloaded and verified file: C:\\Users\\kesha\\.medmnist\\pneumoniamnist.npz\n",
      "Using downloaded and verified file: C:\\Users\\kesha\\.medmnist\\pneumoniamnist.npz\n",
      "Num Samples For Training 10 Num Samples For Val 1000\n"
     ]
    },
    {
     "name": "stderr",
     "output_type": "stream",
     "text": [
      "Using cache found in C:\\Users\\kesha/.cache\\torch\\hub\\pytorch_vision_v0.10.0\n",
      "c:\\Users\\kesha\\AppData\\Local\\Programs\\Python\\Python311\\Lib\\site-packages\\torchvision\\models\\_utils.py:208: UserWarning: The parameter 'pretrained' is deprecated since 0.13 and may be removed in the future, please use 'weights' instead.\n",
      "  warnings.warn(\n",
      "c:\\Users\\kesha\\AppData\\Local\\Programs\\Python\\Python311\\Lib\\site-packages\\torchvision\\models\\_utils.py:223: UserWarning: Arguments other than a weight enum or `None` for 'weights' are deprecated since 0.13 and may be removed in the future. The current behavior is equivalent to passing `weights=None`.\n",
      "  warnings.warn(msg)\n"
     ]
    },
    {
     "name": "stdout",
     "output_type": "stream",
     "text": [
      "Train Epoch: 0 [0/10 (0%)]\tLoss: 0.715053\n",
      "Train Epoch: 5 [0/10 (0%)]\tLoss: 0.000419\n",
      "Train Epoch: 10 [0/10 (0%)]\tLoss: 0.000131\n",
      "Train Epoch: 15 [0/10 (0%)]\tLoss: 0.000077\n",
      "Train Epoch: 20 [0/10 (0%)]\tLoss: 0.000062\n",
      "Train Epoch: 25 [0/10 (0%)]\tLoss: 0.000049\n",
      "Train Epoch: 30 [0/10 (0%)]\tLoss: 0.000042\n",
      "Train Epoch: 35 [0/10 (0%)]\tLoss: 0.000038\n",
      "Train Epoch: 40 [0/10 (0%)]\tLoss: 0.000034\n",
      "Train Epoch: 45 [0/10 (0%)]\tLoss: 0.000031\n"
     ]
    },
    {
     "name": "stderr",
     "output_type": "stream",
     "text": [
      "c:\\Users\\kesha\\AppData\\Local\\Programs\\Python\\Python311\\Lib\\site-packages\\torch\\nn\\_reduction.py:42: UserWarning: size_average and reduce args will be deprecated, please use reduction='sum' instead.\n",
      "  warnings.warn(warning.format(ret))\n"
     ]
    },
    {
     "name": "stdout",
     "output_type": "stream",
     "text": [
      "\n",
      "Val set: Average loss: 1.9504, Accuracy: 672/1000 (67.20%)\n",
      "\n",
      "Num Samples For Training 10 Num Samples For Val 1000\n"
     ]
    },
    {
     "name": "stderr",
     "output_type": "stream",
     "text": [
      "Using cache found in C:\\Users\\kesha/.cache\\torch\\hub\\pytorch_vision_v0.10.0\n"
     ]
    },
    {
     "name": "stdout",
     "output_type": "stream",
     "text": [
      "Train Epoch: 0 [0/10 (0%)]\tLoss: 0.706821\n",
      "Train Epoch: 5 [0/10 (0%)]\tLoss: 0.000519\n",
      "Train Epoch: 10 [0/10 (0%)]\tLoss: 0.000121\n",
      "Train Epoch: 15 [0/10 (0%)]\tLoss: 0.000070\n",
      "Train Epoch: 20 [0/10 (0%)]\tLoss: 0.000050\n",
      "Train Epoch: 25 [0/10 (0%)]\tLoss: 0.000039\n",
      "Train Epoch: 30 [0/10 (0%)]\tLoss: 0.000032\n",
      "Train Epoch: 35 [0/10 (0%)]\tLoss: 0.000028\n",
      "Train Epoch: 40 [0/10 (0%)]\tLoss: 0.000024\n",
      "Train Epoch: 45 [0/10 (0%)]\tLoss: 0.000022\n",
      "\n",
      "Val set: Average loss: 0.6656, Accuracy: 821/1000 (82.10%)\n",
      "\n",
      "Num Samples For Training 10 Num Samples For Val 1000\n"
     ]
    },
    {
     "name": "stderr",
     "output_type": "stream",
     "text": [
      "Using cache found in C:\\Users\\kesha/.cache\\torch\\hub\\pytorch_vision_v0.10.0\n"
     ]
    },
    {
     "name": "stdout",
     "output_type": "stream",
     "text": [
      "Train Epoch: 0 [0/10 (0%)]\tLoss: 0.715773\n",
      "Train Epoch: 5 [0/10 (0%)]\tLoss: 0.000437\n",
      "Train Epoch: 10 [0/10 (0%)]\tLoss: 0.000100\n",
      "Train Epoch: 15 [0/10 (0%)]\tLoss: 0.000058\n",
      "Train Epoch: 20 [0/10 (0%)]\tLoss: 0.000043\n",
      "Train Epoch: 25 [0/10 (0%)]\tLoss: 0.000034\n",
      "Train Epoch: 30 [0/10 (0%)]\tLoss: 0.000029\n",
      "Train Epoch: 35 [0/10 (0%)]\tLoss: 0.000025\n",
      "Train Epoch: 40 [0/10 (0%)]\tLoss: 0.000022\n",
      "Train Epoch: 45 [0/10 (0%)]\tLoss: 0.000020\n",
      "\n",
      "Val set: Average loss: 1.0525, Accuracy: 724/1000 (72.40%)\n",
      "\n",
      "Num Samples For Training 10 Num Samples For Val 1000\n"
     ]
    },
    {
     "name": "stderr",
     "output_type": "stream",
     "text": [
      "Using cache found in C:\\Users\\kesha/.cache\\torch\\hub\\pytorch_vision_v0.10.0\n"
     ]
    },
    {
     "name": "stdout",
     "output_type": "stream",
     "text": [
      "Train Epoch: 0 [0/10 (0%)]\tLoss: 0.961484\n",
      "Train Epoch: 5 [0/10 (0%)]\tLoss: 0.000721\n",
      "Train Epoch: 10 [0/10 (0%)]\tLoss: 0.000247\n",
      "Train Epoch: 15 [0/10 (0%)]\tLoss: 0.000118\n",
      "Train Epoch: 20 [0/10 (0%)]\tLoss: 0.000095\n",
      "Train Epoch: 25 [0/10 (0%)]\tLoss: 0.000078\n",
      "Train Epoch: 30 [0/10 (0%)]\tLoss: 0.000063\n",
      "Train Epoch: 35 [0/10 (0%)]\tLoss: 0.000053\n",
      "Train Epoch: 40 [0/10 (0%)]\tLoss: 0.000047\n",
      "Train Epoch: 45 [0/10 (0%)]\tLoss: 0.000042\n",
      "\n",
      "Val set: Average loss: 0.8290, Accuracy: 758/1000 (75.80%)\n",
      "\n",
      "Num Samples For Training 10 Num Samples For Val 1000\n"
     ]
    },
    {
     "name": "stderr",
     "output_type": "stream",
     "text": [
      "Using cache found in C:\\Users\\kesha/.cache\\torch\\hub\\pytorch_vision_v0.10.0\n"
     ]
    },
    {
     "name": "stdout",
     "output_type": "stream",
     "text": [
      "Train Epoch: 0 [0/10 (0%)]\tLoss: 0.874789\n",
      "Train Epoch: 5 [0/10 (0%)]\tLoss: 0.000449\n",
      "Train Epoch: 10 [0/10 (0%)]\tLoss: 0.000134\n",
      "Train Epoch: 15 [0/10 (0%)]\tLoss: 0.000075\n",
      "Train Epoch: 20 [0/10 (0%)]\tLoss: 0.000052\n",
      "Train Epoch: 25 [0/10 (0%)]\tLoss: 0.000042\n",
      "Train Epoch: 30 [0/10 (0%)]\tLoss: 0.000036\n",
      "Train Epoch: 35 [0/10 (0%)]\tLoss: 0.000031\n",
      "Train Epoch: 40 [0/10 (0%)]\tLoss: 0.000027\n",
      "Train Epoch: 45 [0/10 (0%)]\tLoss: 0.000025\n",
      "\n",
      "Val set: Average loss: 0.9823, Accuracy: 758/1000 (75.80%)\n",
      "\n",
      "Num Samples For Training 10 Num Samples For Val 1000\n"
     ]
    },
    {
     "name": "stderr",
     "output_type": "stream",
     "text": [
      "Using cache found in C:\\Users\\kesha/.cache\\torch\\hub\\pytorch_vision_v0.10.0\n"
     ]
    },
    {
     "name": "stdout",
     "output_type": "stream",
     "text": [
      "Train Epoch: 0 [0/10 (0%)]\tLoss: 0.637897\n",
      "Train Epoch: 5 [0/10 (0%)]\tLoss: 0.000565\n",
      "Train Epoch: 10 [0/10 (0%)]\tLoss: 0.000119\n",
      "Train Epoch: 15 [0/10 (0%)]\tLoss: 0.000064\n",
      "Train Epoch: 20 [0/10 (0%)]\tLoss: 0.000042\n",
      "Train Epoch: 25 [0/10 (0%)]\tLoss: 0.000031\n",
      "Train Epoch: 30 [0/10 (0%)]\tLoss: 0.000025\n",
      "Train Epoch: 35 [0/10 (0%)]\tLoss: 0.000021\n",
      "Train Epoch: 40 [0/10 (0%)]\tLoss: 0.000019\n",
      "Train Epoch: 45 [0/10 (0%)]\tLoss: 0.000017\n",
      "\n",
      "Val set: Average loss: 0.9416, Accuracy: 752/1000 (75.20%)\n",
      "\n",
      "Num Samples For Training 10 Num Samples For Val 1000\n"
     ]
    },
    {
     "name": "stderr",
     "output_type": "stream",
     "text": [
      "Using cache found in C:\\Users\\kesha/.cache\\torch\\hub\\pytorch_vision_v0.10.0\n"
     ]
    },
    {
     "name": "stdout",
     "output_type": "stream",
     "text": [
      "Train Epoch: 0 [0/10 (0%)]\tLoss: 0.714247\n",
      "Train Epoch: 5 [0/10 (0%)]\tLoss: 0.000405\n",
      "Train Epoch: 10 [0/10 (0%)]\tLoss: 0.000172\n",
      "Train Epoch: 15 [0/10 (0%)]\tLoss: 0.000100\n",
      "Train Epoch: 20 [0/10 (0%)]\tLoss: 0.000060\n",
      "Train Epoch: 25 [0/10 (0%)]\tLoss: 0.000044\n",
      "Train Epoch: 30 [0/10 (0%)]\tLoss: 0.000036\n",
      "Train Epoch: 35 [0/10 (0%)]\tLoss: 0.000031\n",
      "Train Epoch: 40 [0/10 (0%)]\tLoss: 0.000027\n",
      "Train Epoch: 45 [0/10 (0%)]\tLoss: 0.000024\n",
      "\n",
      "Val set: Average loss: 1.0686, Accuracy: 716/1000 (71.60%)\n",
      "\n",
      "Num Samples For Training 10 Num Samples For Val 1000\n"
     ]
    },
    {
     "name": "stderr",
     "output_type": "stream",
     "text": [
      "Using cache found in C:\\Users\\kesha/.cache\\torch\\hub\\pytorch_vision_v0.10.0\n"
     ]
    },
    {
     "name": "stdout",
     "output_type": "stream",
     "text": [
      "Train Epoch: 0 [0/10 (0%)]\tLoss: 0.573494\n",
      "Train Epoch: 5 [0/10 (0%)]\tLoss: 0.000330\n",
      "Train Epoch: 10 [0/10 (0%)]\tLoss: 0.000102\n",
      "Train Epoch: 15 [0/10 (0%)]\tLoss: 0.000069\n",
      "Train Epoch: 20 [0/10 (0%)]\tLoss: 0.000058\n",
      "Train Epoch: 25 [0/10 (0%)]\tLoss: 0.000049\n",
      "Train Epoch: 30 [0/10 (0%)]\tLoss: 0.000042\n",
      "Train Epoch: 35 [0/10 (0%)]\tLoss: 0.000038\n",
      "Train Epoch: 40 [0/10 (0%)]\tLoss: 0.000034\n",
      "Train Epoch: 45 [0/10 (0%)]\tLoss: 0.000031\n",
      "\n",
      "Val set: Average loss: 0.6176, Accuracy: 806/1000 (80.60%)\n",
      "\n",
      "Num Samples For Training 10 Num Samples For Val 1000\n"
     ]
    },
    {
     "name": "stderr",
     "output_type": "stream",
     "text": [
      "Using cache found in C:\\Users\\kesha/.cache\\torch\\hub\\pytorch_vision_v0.10.0\n"
     ]
    },
    {
     "name": "stdout",
     "output_type": "stream",
     "text": [
      "Train Epoch: 0 [0/10 (0%)]\tLoss: 0.526455\n",
      "Train Epoch: 5 [0/10 (0%)]\tLoss: 0.000582\n",
      "Train Epoch: 10 [0/10 (0%)]\tLoss: 0.000093\n",
      "Train Epoch: 15 [0/10 (0%)]\tLoss: 0.000041\n",
      "Train Epoch: 20 [0/10 (0%)]\tLoss: 0.000026\n",
      "Train Epoch: 25 [0/10 (0%)]\tLoss: 0.000021\n",
      "Train Epoch: 30 [0/10 (0%)]\tLoss: 0.000017\n",
      "Train Epoch: 35 [0/10 (0%)]\tLoss: 0.000015\n",
      "Train Epoch: 40 [0/10 (0%)]\tLoss: 0.000014\n",
      "Train Epoch: 45 [0/10 (0%)]\tLoss: 0.000012\n",
      "\n",
      "Val set: Average loss: 0.5106, Accuracy: 848/1000 (84.80%)\n",
      "\n",
      "Num Samples For Training 10 Num Samples For Val 1000\n"
     ]
    },
    {
     "name": "stderr",
     "output_type": "stream",
     "text": [
      "Using cache found in C:\\Users\\kesha/.cache\\torch\\hub\\pytorch_vision_v0.10.0\n"
     ]
    },
    {
     "name": "stdout",
     "output_type": "stream",
     "text": [
      "Train Epoch: 0 [0/10 (0%)]\tLoss: 0.828252\n",
      "Train Epoch: 5 [0/10 (0%)]\tLoss: 0.000713\n",
      "Train Epoch: 10 [0/10 (0%)]\tLoss: 0.000187\n",
      "Train Epoch: 15 [0/10 (0%)]\tLoss: 0.000094\n",
      "Train Epoch: 20 [0/10 (0%)]\tLoss: 0.000066\n",
      "Train Epoch: 25 [0/10 (0%)]\tLoss: 0.000052\n",
      "Train Epoch: 30 [0/10 (0%)]\tLoss: 0.000043\n",
      "Train Epoch: 35 [0/10 (0%)]\tLoss: 0.000037\n",
      "Train Epoch: 40 [0/10 (0%)]\tLoss: 0.000032\n",
      "Train Epoch: 45 [0/10 (0%)]\tLoss: 0.000029\n",
      "\n",
      "Val set: Average loss: 1.6045, Accuracy: 650/1000 (65.00%)\n",
      "\n",
      "Num Samples For Training 10 Num Samples For Val 1000\n"
     ]
    },
    {
     "name": "stderr",
     "output_type": "stream",
     "text": [
      "Using cache found in C:\\Users\\kesha/.cache\\torch\\hub\\pytorch_vision_v0.10.0\n"
     ]
    },
    {
     "name": "stdout",
     "output_type": "stream",
     "text": [
      "Train Epoch: 0 [0/10 (0%)]\tLoss: 0.743441\n",
      "Train Epoch: 5 [0/10 (0%)]\tLoss: 0.000414\n",
      "Train Epoch: 10 [0/10 (0%)]\tLoss: 0.000100\n",
      "Train Epoch: 15 [0/10 (0%)]\tLoss: 0.000050\n",
      "Train Epoch: 20 [0/10 (0%)]\tLoss: 0.000034\n",
      "Train Epoch: 25 [0/10 (0%)]\tLoss: 0.000026\n",
      "Train Epoch: 30 [0/10 (0%)]\tLoss: 0.000022\n",
      "Train Epoch: 35 [0/10 (0%)]\tLoss: 0.000019\n",
      "Train Epoch: 40 [0/10 (0%)]\tLoss: 0.000017\n",
      "Train Epoch: 45 [0/10 (0%)]\tLoss: 0.000016\n",
      "\n",
      "Val set: Average loss: 0.4772, Accuracy: 829/1000 (82.90%)\n",
      "\n",
      "Num Samples For Training 10 Num Samples For Val 1000\n"
     ]
    },
    {
     "name": "stderr",
     "output_type": "stream",
     "text": [
      "Using cache found in C:\\Users\\kesha/.cache\\torch\\hub\\pytorch_vision_v0.10.0\n"
     ]
    },
    {
     "name": "stdout",
     "output_type": "stream",
     "text": [
      "Train Epoch: 0 [0/10 (0%)]\tLoss: 0.758544\n",
      "Train Epoch: 5 [0/10 (0%)]\tLoss: 0.000557\n",
      "Train Epoch: 10 [0/10 (0%)]\tLoss: 0.000184\n",
      "Train Epoch: 15 [0/10 (0%)]\tLoss: 0.000114\n",
      "Train Epoch: 20 [0/10 (0%)]\tLoss: 0.000083\n",
      "Train Epoch: 25 [0/10 (0%)]\tLoss: 0.000059\n",
      "Train Epoch: 30 [0/10 (0%)]\tLoss: 0.000046\n",
      "Train Epoch: 35 [0/10 (0%)]\tLoss: 0.000039\n",
      "Train Epoch: 40 [0/10 (0%)]\tLoss: 0.000035\n",
      "Train Epoch: 45 [0/10 (0%)]\tLoss: 0.000031\n",
      "\n",
      "Val set: Average loss: 0.4764, Accuracy: 847/1000 (84.70%)\n",
      "\n",
      "Num Samples For Training 10 Num Samples For Val 1000\n"
     ]
    },
    {
     "name": "stderr",
     "output_type": "stream",
     "text": [
      "Using cache found in C:\\Users\\kesha/.cache\\torch\\hub\\pytorch_vision_v0.10.0\n"
     ]
    },
    {
     "name": "stdout",
     "output_type": "stream",
     "text": [
      "Train Epoch: 0 [0/10 (0%)]\tLoss: 0.602701\n",
      "Train Epoch: 5 [0/10 (0%)]\tLoss: 0.000188\n",
      "Train Epoch: 10 [0/10 (0%)]\tLoss: 0.000049\n",
      "Train Epoch: 15 [0/10 (0%)]\tLoss: 0.000031\n",
      "Train Epoch: 20 [0/10 (0%)]\tLoss: 0.000023\n",
      "Train Epoch: 25 [0/10 (0%)]\tLoss: 0.000018\n",
      "Train Epoch: 30 [0/10 (0%)]\tLoss: 0.000015\n",
      "Train Epoch: 35 [0/10 (0%)]\tLoss: 0.000013\n",
      "Train Epoch: 40 [0/10 (0%)]\tLoss: 0.000011\n",
      "Train Epoch: 45 [0/10 (0%)]\tLoss: 0.000010\n",
      "\n",
      "Val set: Average loss: 1.0216, Accuracy: 788/1000 (78.80%)\n",
      "\n",
      "Num Samples For Training 10 Num Samples For Val 1000\n"
     ]
    },
    {
     "name": "stderr",
     "output_type": "stream",
     "text": [
      "Using cache found in C:\\Users\\kesha/.cache\\torch\\hub\\pytorch_vision_v0.10.0\n"
     ]
    },
    {
     "name": "stdout",
     "output_type": "stream",
     "text": [
      "Train Epoch: 0 [0/10 (0%)]\tLoss: 1.003746\n",
      "Train Epoch: 5 [0/10 (0%)]\tLoss: 0.000488\n",
      "Train Epoch: 10 [0/10 (0%)]\tLoss: 0.000122\n",
      "Train Epoch: 15 [0/10 (0%)]\tLoss: 0.000063\n",
      "Train Epoch: 20 [0/10 (0%)]\tLoss: 0.000039\n",
      "Train Epoch: 25 [0/10 (0%)]\tLoss: 0.000029\n",
      "Train Epoch: 30 [0/10 (0%)]\tLoss: 0.000024\n",
      "Train Epoch: 35 [0/10 (0%)]\tLoss: 0.000021\n",
      "Train Epoch: 40 [0/10 (0%)]\tLoss: 0.000020\n",
      "Train Epoch: 45 [0/10 (0%)]\tLoss: 0.000019\n",
      "\n",
      "Val set: Average loss: 1.6296, Accuracy: 698/1000 (69.80%)\n",
      "\n",
      "Num Samples For Training 10 Num Samples For Val 1000\n"
     ]
    },
    {
     "name": "stderr",
     "output_type": "stream",
     "text": [
      "Using cache found in C:\\Users\\kesha/.cache\\torch\\hub\\pytorch_vision_v0.10.0\n"
     ]
    },
    {
     "name": "stdout",
     "output_type": "stream",
     "text": [
      "Train Epoch: 0 [0/10 (0%)]\tLoss: 0.801811\n",
      "Train Epoch: 5 [0/10 (0%)]\tLoss: 0.000306\n",
      "Train Epoch: 10 [0/10 (0%)]\tLoss: 0.000073\n",
      "Train Epoch: 15 [0/10 (0%)]\tLoss: 0.000040\n",
      "Train Epoch: 20 [0/10 (0%)]\tLoss: 0.000027\n",
      "Train Epoch: 25 [0/10 (0%)]\tLoss: 0.000020\n",
      "Train Epoch: 30 [0/10 (0%)]\tLoss: 0.000016\n",
      "Train Epoch: 35 [0/10 (0%)]\tLoss: 0.000014\n",
      "Train Epoch: 40 [0/10 (0%)]\tLoss: 0.000013\n",
      "Train Epoch: 45 [0/10 (0%)]\tLoss: 0.000012\n",
      "\n",
      "Val set: Average loss: 1.1623, Accuracy: 759/1000 (75.90%)\n",
      "\n",
      "Num Samples For Training 10 Num Samples For Val 1000\n"
     ]
    },
    {
     "name": "stderr",
     "output_type": "stream",
     "text": [
      "Using cache found in C:\\Users\\kesha/.cache\\torch\\hub\\pytorch_vision_v0.10.0\n"
     ]
    },
    {
     "name": "stdout",
     "output_type": "stream",
     "text": [
      "Train Epoch: 0 [0/10 (0%)]\tLoss: 0.832863\n",
      "Train Epoch: 5 [0/10 (0%)]\tLoss: 0.000839\n",
      "Train Epoch: 10 [0/10 (0%)]\tLoss: 0.000198\n",
      "Train Epoch: 15 [0/10 (0%)]\tLoss: 0.000096\n",
      "Train Epoch: 20 [0/10 (0%)]\tLoss: 0.000066\n",
      "Train Epoch: 25 [0/10 (0%)]\tLoss: 0.000051\n",
      "Train Epoch: 30 [0/10 (0%)]\tLoss: 0.000042\n",
      "Train Epoch: 35 [0/10 (0%)]\tLoss: 0.000036\n",
      "Train Epoch: 40 [0/10 (0%)]\tLoss: 0.000032\n",
      "Train Epoch: 45 [0/10 (0%)]\tLoss: 0.000029\n",
      "\n",
      "Val set: Average loss: 0.9102, Accuracy: 717/1000 (71.70%)\n",
      "\n",
      "Num Samples For Training 10 Num Samples For Val 1000\n"
     ]
    },
    {
     "name": "stderr",
     "output_type": "stream",
     "text": [
      "Using cache found in C:\\Users\\kesha/.cache\\torch\\hub\\pytorch_vision_v0.10.0\n"
     ]
    },
    {
     "name": "stdout",
     "output_type": "stream",
     "text": [
      "Train Epoch: 0 [0/10 (0%)]\tLoss: 0.875844\n",
      "Train Epoch: 5 [0/10 (0%)]\tLoss: 0.000563\n",
      "Train Epoch: 10 [0/10 (0%)]\tLoss: 0.000122\n",
      "Train Epoch: 15 [0/10 (0%)]\tLoss: 0.000063\n",
      "Train Epoch: 20 [0/10 (0%)]\tLoss: 0.000042\n",
      "Train Epoch: 25 [0/10 (0%)]\tLoss: 0.000032\n",
      "Train Epoch: 30 [0/10 (0%)]\tLoss: 0.000026\n",
      "Train Epoch: 35 [0/10 (0%)]\tLoss: 0.000023\n",
      "Train Epoch: 40 [0/10 (0%)]\tLoss: 0.000021\n",
      "Train Epoch: 45 [0/10 (0%)]\tLoss: 0.000019\n",
      "\n",
      "Val set: Average loss: 0.6399, Accuracy: 790/1000 (79.00%)\n",
      "\n",
      "Num Samples For Training 10 Num Samples For Val 1000\n"
     ]
    },
    {
     "name": "stderr",
     "output_type": "stream",
     "text": [
      "Using cache found in C:\\Users\\kesha/.cache\\torch\\hub\\pytorch_vision_v0.10.0\n"
     ]
    },
    {
     "name": "stdout",
     "output_type": "stream",
     "text": [
      "Train Epoch: 0 [0/10 (0%)]\tLoss: 0.623579\n",
      "Train Epoch: 5 [0/10 (0%)]\tLoss: 0.000427\n",
      "Train Epoch: 10 [0/10 (0%)]\tLoss: 0.000096\n",
      "Train Epoch: 15 [0/10 (0%)]\tLoss: 0.000046\n",
      "Train Epoch: 20 [0/10 (0%)]\tLoss: 0.000030\n",
      "Train Epoch: 25 [0/10 (0%)]\tLoss: 0.000023\n",
      "Train Epoch: 30 [0/10 (0%)]\tLoss: 0.000019\n",
      "Train Epoch: 35 [0/10 (0%)]\tLoss: 0.000017\n",
      "Train Epoch: 40 [0/10 (0%)]\tLoss: 0.000016\n",
      "Train Epoch: 45 [0/10 (0%)]\tLoss: 0.000015\n",
      "\n",
      "Val set: Average loss: 1.7953, Accuracy: 660/1000 (66.00%)\n",
      "\n",
      "Num Samples For Training 10 Num Samples For Val 1000\n"
     ]
    },
    {
     "name": "stderr",
     "output_type": "stream",
     "text": [
      "Using cache found in C:\\Users\\kesha/.cache\\torch\\hub\\pytorch_vision_v0.10.0\n"
     ]
    },
    {
     "name": "stdout",
     "output_type": "stream",
     "text": [
      "Train Epoch: 0 [0/10 (0%)]\tLoss: 0.769808\n",
      "Train Epoch: 5 [0/10 (0%)]\tLoss: 0.000659\n",
      "Train Epoch: 10 [0/10 (0%)]\tLoss: 0.000176\n",
      "Train Epoch: 15 [0/10 (0%)]\tLoss: 0.000107\n",
      "Train Epoch: 20 [0/10 (0%)]\tLoss: 0.000074\n",
      "Train Epoch: 25 [0/10 (0%)]\tLoss: 0.000059\n",
      "Train Epoch: 30 [0/10 (0%)]\tLoss: 0.000050\n",
      "Train Epoch: 35 [0/10 (0%)]\tLoss: 0.000044\n",
      "Train Epoch: 40 [0/10 (0%)]\tLoss: 0.000040\n",
      "Train Epoch: 45 [0/10 (0%)]\tLoss: 0.000036\n",
      "\n",
      "Val set: Average loss: 0.5277, Accuracy: 837/1000 (83.70%)\n",
      "\n",
      "Num Samples For Training 10 Num Samples For Val 1000\n"
     ]
    },
    {
     "name": "stderr",
     "output_type": "stream",
     "text": [
      "Using cache found in C:\\Users\\kesha/.cache\\torch\\hub\\pytorch_vision_v0.10.0\n"
     ]
    },
    {
     "name": "stdout",
     "output_type": "stream",
     "text": [
      "Train Epoch: 0 [0/10 (0%)]\tLoss: 0.693653\n",
      "Train Epoch: 5 [0/10 (0%)]\tLoss: 0.000388\n",
      "Train Epoch: 10 [0/10 (0%)]\tLoss: 0.000094\n",
      "Train Epoch: 15 [0/10 (0%)]\tLoss: 0.000054\n",
      "Train Epoch: 20 [0/10 (0%)]\tLoss: 0.000041\n",
      "Train Epoch: 25 [0/10 (0%)]\tLoss: 0.000033\n",
      "Train Epoch: 30 [0/10 (0%)]\tLoss: 0.000028\n",
      "Train Epoch: 35 [0/10 (0%)]\tLoss: 0.000025\n",
      "Train Epoch: 40 [0/10 (0%)]\tLoss: 0.000023\n",
      "Train Epoch: 45 [0/10 (0%)]\tLoss: 0.000021\n",
      "\n",
      "Val set: Average loss: 0.6079, Accuracy: 827/1000 (82.70%)\n",
      "\n",
      "Num Samples For Training 10 Num Samples For Val 1000\n"
     ]
    },
    {
     "name": "stderr",
     "output_type": "stream",
     "text": [
      "Using cache found in C:\\Users\\kesha/.cache\\torch\\hub\\pytorch_vision_v0.10.0\n"
     ]
    },
    {
     "name": "stdout",
     "output_type": "stream",
     "text": [
      "Train Epoch: 0 [0/10 (0%)]\tLoss: 0.649797\n",
      "Train Epoch: 5 [0/10 (0%)]\tLoss: 0.000458\n",
      "Train Epoch: 10 [0/10 (0%)]\tLoss: 0.000151\n",
      "Train Epoch: 15 [0/10 (0%)]\tLoss: 0.000103\n",
      "Train Epoch: 20 [0/10 (0%)]\tLoss: 0.000080\n",
      "Train Epoch: 25 [0/10 (0%)]\tLoss: 0.000062\n",
      "Train Epoch: 30 [0/10 (0%)]\tLoss: 0.000052\n",
      "Train Epoch: 35 [0/10 (0%)]\tLoss: 0.000045\n",
      "Train Epoch: 40 [0/10 (0%)]\tLoss: 0.000040\n",
      "Train Epoch: 45 [0/10 (0%)]\tLoss: 0.000035\n",
      "\n",
      "Val set: Average loss: 1.0907, Accuracy: 697/1000 (69.70%)\n",
      "\n",
      "Num Samples For Training 10 Num Samples For Val 1000\n"
     ]
    },
    {
     "name": "stderr",
     "output_type": "stream",
     "text": [
      "Using cache found in C:\\Users\\kesha/.cache\\torch\\hub\\pytorch_vision_v0.10.0\n"
     ]
    },
    {
     "name": "stdout",
     "output_type": "stream",
     "text": [
      "Train Epoch: 0 [0/10 (0%)]\tLoss: 0.841997\n",
      "Train Epoch: 5 [0/10 (0%)]\tLoss: 0.000765\n",
      "Train Epoch: 10 [0/10 (0%)]\tLoss: 0.000283\n",
      "Train Epoch: 15 [0/10 (0%)]\tLoss: 0.000194\n",
      "Train Epoch: 20 [0/10 (0%)]\tLoss: 0.000138\n",
      "Train Epoch: 25 [0/10 (0%)]\tLoss: 0.000117\n",
      "Train Epoch: 30 [0/10 (0%)]\tLoss: 0.000098\n",
      "Train Epoch: 35 [0/10 (0%)]\tLoss: 0.000083\n",
      "Train Epoch: 40 [0/10 (0%)]\tLoss: 0.000072\n",
      "Train Epoch: 45 [0/10 (0%)]\tLoss: 0.000063\n",
      "\n",
      "Val set: Average loss: 0.7756, Accuracy: 787/1000 (78.70%)\n",
      "\n",
      "Num Samples For Training 10 Num Samples For Val 1000\n"
     ]
    },
    {
     "name": "stderr",
     "output_type": "stream",
     "text": [
      "Using cache found in C:\\Users\\kesha/.cache\\torch\\hub\\pytorch_vision_v0.10.0\n"
     ]
    },
    {
     "name": "stdout",
     "output_type": "stream",
     "text": [
      "Train Epoch: 0 [0/10 (0%)]\tLoss: 0.791765\n",
      "Train Epoch: 5 [0/10 (0%)]\tLoss: 0.000643\n",
      "Train Epoch: 10 [0/10 (0%)]\tLoss: 0.000169\n",
      "Train Epoch: 15 [0/10 (0%)]\tLoss: 0.000091\n",
      "Train Epoch: 20 [0/10 (0%)]\tLoss: 0.000062\n",
      "Train Epoch: 25 [0/10 (0%)]\tLoss: 0.000046\n",
      "Train Epoch: 30 [0/10 (0%)]\tLoss: 0.000037\n",
      "Train Epoch: 35 [0/10 (0%)]\tLoss: 0.000032\n",
      "Train Epoch: 40 [0/10 (0%)]\tLoss: 0.000028\n",
      "Train Epoch: 45 [0/10 (0%)]\tLoss: 0.000026\n",
      "\n",
      "Val set: Average loss: 0.5072, Accuracy: 808/1000 (80.80%)\n",
      "\n",
      "Num Samples For Training 10 Num Samples For Val 1000\n"
     ]
    },
    {
     "name": "stderr",
     "output_type": "stream",
     "text": [
      "Using cache found in C:\\Users\\kesha/.cache\\torch\\hub\\pytorch_vision_v0.10.0\n"
     ]
    },
    {
     "name": "stdout",
     "output_type": "stream",
     "text": [
      "Train Epoch: 0 [0/10 (0%)]\tLoss: 0.637569\n",
      "Train Epoch: 5 [0/10 (0%)]\tLoss: 0.000534\n",
      "Train Epoch: 10 [0/10 (0%)]\tLoss: 0.000173\n",
      "Train Epoch: 15 [0/10 (0%)]\tLoss: 0.000069\n",
      "Train Epoch: 20 [0/10 (0%)]\tLoss: 0.000041\n",
      "Train Epoch: 25 [0/10 (0%)]\tLoss: 0.000031\n",
      "Train Epoch: 30 [0/10 (0%)]\tLoss: 0.000027\n",
      "Train Epoch: 35 [0/10 (0%)]\tLoss: 0.000024\n",
      "Train Epoch: 40 [0/10 (0%)]\tLoss: 0.000022\n",
      "Train Epoch: 45 [0/10 (0%)]\tLoss: 0.000021\n",
      "\n",
      "Val set: Average loss: 2.1424, Accuracy: 585/1000 (58.50%)\n",
      "\n",
      "Num Samples For Training 10 Num Samples For Val 1000\n"
     ]
    },
    {
     "name": "stderr",
     "output_type": "stream",
     "text": [
      "Using cache found in C:\\Users\\kesha/.cache\\torch\\hub\\pytorch_vision_v0.10.0\n"
     ]
    },
    {
     "name": "stdout",
     "output_type": "stream",
     "text": [
      "Train Epoch: 0 [0/10 (0%)]\tLoss: 0.665989\n",
      "Train Epoch: 5 [0/10 (0%)]\tLoss: 0.000386\n",
      "Train Epoch: 10 [0/10 (0%)]\tLoss: 0.000101\n",
      "Train Epoch: 15 [0/10 (0%)]\tLoss: 0.000047\n",
      "Train Epoch: 20 [0/10 (0%)]\tLoss: 0.000030\n",
      "Train Epoch: 25 [0/10 (0%)]\tLoss: 0.000025\n",
      "Train Epoch: 30 [0/10 (0%)]\tLoss: 0.000022\n",
      "Train Epoch: 35 [0/10 (0%)]\tLoss: 0.000020\n",
      "Train Epoch: 40 [0/10 (0%)]\tLoss: 0.000018\n",
      "Train Epoch: 45 [0/10 (0%)]\tLoss: 0.000016\n",
      "\n",
      "Val set: Average loss: 0.9831, Accuracy: 769/1000 (76.90%)\n",
      "\n",
      "Num Samples For Training 10 Num Samples For Val 1000\n"
     ]
    },
    {
     "name": "stderr",
     "output_type": "stream",
     "text": [
      "Using cache found in C:\\Users\\kesha/.cache\\torch\\hub\\pytorch_vision_v0.10.0\n"
     ]
    },
    {
     "name": "stdout",
     "output_type": "stream",
     "text": [
      "Train Epoch: 0 [0/10 (0%)]\tLoss: 0.668114\n",
      "Train Epoch: 5 [0/10 (0%)]\tLoss: 0.000310\n",
      "Train Epoch: 10 [0/10 (0%)]\tLoss: 0.000099\n",
      "Train Epoch: 15 [0/10 (0%)]\tLoss: 0.000050\n",
      "Train Epoch: 20 [0/10 (0%)]\tLoss: 0.000036\n",
      "Train Epoch: 25 [0/10 (0%)]\tLoss: 0.000030\n",
      "Train Epoch: 30 [0/10 (0%)]\tLoss: 0.000027\n",
      "Train Epoch: 35 [0/10 (0%)]\tLoss: 0.000024\n",
      "Train Epoch: 40 [0/10 (0%)]\tLoss: 0.000021\n",
      "Train Epoch: 45 [0/10 (0%)]\tLoss: 0.000019\n",
      "\n",
      "Val set: Average loss: 1.5241, Accuracy: 708/1000 (70.80%)\n",
      "\n",
      "Num Samples For Training 10 Num Samples For Val 1000\n"
     ]
    },
    {
     "name": "stderr",
     "output_type": "stream",
     "text": [
      "Using cache found in C:\\Users\\kesha/.cache\\torch\\hub\\pytorch_vision_v0.10.0\n"
     ]
    },
    {
     "name": "stdout",
     "output_type": "stream",
     "text": [
      "Train Epoch: 0 [0/10 (0%)]\tLoss: 0.856390\n",
      "Train Epoch: 5 [0/10 (0%)]\tLoss: 0.000909\n",
      "Train Epoch: 10 [0/10 (0%)]\tLoss: 0.000187\n",
      "Train Epoch: 15 [0/10 (0%)]\tLoss: 0.000091\n",
      "Train Epoch: 20 [0/10 (0%)]\tLoss: 0.000066\n",
      "Train Epoch: 25 [0/10 (0%)]\tLoss: 0.000054\n",
      "Train Epoch: 30 [0/10 (0%)]\tLoss: 0.000045\n",
      "Train Epoch: 35 [0/10 (0%)]\tLoss: 0.000038\n",
      "Train Epoch: 40 [0/10 (0%)]\tLoss: 0.000034\n",
      "Train Epoch: 45 [0/10 (0%)]\tLoss: 0.000031\n",
      "\n",
      "Val set: Average loss: 1.3010, Accuracy: 682/1000 (68.20%)\n",
      "\n",
      "Num Samples For Training 10 Num Samples For Val 1000\n"
     ]
    },
    {
     "name": "stderr",
     "output_type": "stream",
     "text": [
      "Using cache found in C:\\Users\\kesha/.cache\\torch\\hub\\pytorch_vision_v0.10.0\n"
     ]
    },
    {
     "name": "stdout",
     "output_type": "stream",
     "text": [
      "Train Epoch: 0 [0/10 (0%)]\tLoss: 0.640761\n",
      "Train Epoch: 5 [0/10 (0%)]\tLoss: 0.000362\n",
      "Train Epoch: 10 [0/10 (0%)]\tLoss: 0.000092\n",
      "Train Epoch: 15 [0/10 (0%)]\tLoss: 0.000054\n",
      "Train Epoch: 20 [0/10 (0%)]\tLoss: 0.000038\n",
      "Train Epoch: 25 [0/10 (0%)]\tLoss: 0.000031\n",
      "Train Epoch: 30 [0/10 (0%)]\tLoss: 0.000026\n",
      "Train Epoch: 35 [0/10 (0%)]\tLoss: 0.000024\n",
      "Train Epoch: 40 [0/10 (0%)]\tLoss: 0.000022\n",
      "Train Epoch: 45 [0/10 (0%)]\tLoss: 0.000020\n",
      "\n",
      "Val set: Average loss: 0.9107, Accuracy: 766/1000 (76.60%)\n",
      "\n",
      "Num Samples For Training 10 Num Samples For Val 1000\n"
     ]
    },
    {
     "name": "stderr",
     "output_type": "stream",
     "text": [
      "Using cache found in C:\\Users\\kesha/.cache\\torch\\hub\\pytorch_vision_v0.10.0\n"
     ]
    },
    {
     "name": "stdout",
     "output_type": "stream",
     "text": [
      "Train Epoch: 0 [0/10 (0%)]\tLoss: 0.674970\n",
      "Train Epoch: 5 [0/10 (0%)]\tLoss: 0.000618\n",
      "Train Epoch: 10 [0/10 (0%)]\tLoss: 0.000181\n",
      "Train Epoch: 15 [0/10 (0%)]\tLoss: 0.000104\n",
      "Train Epoch: 20 [0/10 (0%)]\tLoss: 0.000070\n",
      "Train Epoch: 25 [0/10 (0%)]\tLoss: 0.000054\n",
      "Train Epoch: 30 [0/10 (0%)]\tLoss: 0.000045\n",
      "Train Epoch: 35 [0/10 (0%)]\tLoss: 0.000039\n",
      "Train Epoch: 40 [0/10 (0%)]\tLoss: 0.000035\n",
      "Train Epoch: 45 [0/10 (0%)]\tLoss: 0.000031\n",
      "\n",
      "Val set: Average loss: 1.1055, Accuracy: 769/1000 (76.90%)\n",
      "\n",
      "Num Samples For Training 10 Num Samples For Val 1000\n"
     ]
    },
    {
     "name": "stderr",
     "output_type": "stream",
     "text": [
      "Using cache found in C:\\Users\\kesha/.cache\\torch\\hub\\pytorch_vision_v0.10.0\n"
     ]
    },
    {
     "name": "stdout",
     "output_type": "stream",
     "text": [
      "Train Epoch: 0 [0/10 (0%)]\tLoss: 0.788778\n",
      "Train Epoch: 5 [0/10 (0%)]\tLoss: 0.000360\n",
      "Train Epoch: 10 [0/10 (0%)]\tLoss: 0.000117\n",
      "Train Epoch: 15 [0/10 (0%)]\tLoss: 0.000075\n",
      "Train Epoch: 20 [0/10 (0%)]\tLoss: 0.000053\n",
      "Train Epoch: 25 [0/10 (0%)]\tLoss: 0.000039\n",
      "Train Epoch: 30 [0/10 (0%)]\tLoss: 0.000032\n",
      "Train Epoch: 35 [0/10 (0%)]\tLoss: 0.000028\n",
      "Train Epoch: 40 [0/10 (0%)]\tLoss: 0.000025\n",
      "Train Epoch: 45 [0/10 (0%)]\tLoss: 0.000022\n",
      "\n",
      "Val set: Average loss: 1.0585, Accuracy: 769/1000 (76.90%)\n",
      "\n",
      "Num Samples For Training 10 Num Samples For Val 1000\n"
     ]
    },
    {
     "name": "stderr",
     "output_type": "stream",
     "text": [
      "Using cache found in C:\\Users\\kesha/.cache\\torch\\hub\\pytorch_vision_v0.10.0\n"
     ]
    },
    {
     "name": "stdout",
     "output_type": "stream",
     "text": [
      "Train Epoch: 0 [0/10 (0%)]\tLoss: 0.873166\n",
      "Train Epoch: 5 [0/10 (0%)]\tLoss: 0.000464\n",
      "Train Epoch: 10 [0/10 (0%)]\tLoss: 0.000149\n",
      "Train Epoch: 15 [0/10 (0%)]\tLoss: 0.000092\n",
      "Train Epoch: 20 [0/10 (0%)]\tLoss: 0.000072\n",
      "Train Epoch: 25 [0/10 (0%)]\tLoss: 0.000060\n",
      "Train Epoch: 30 [0/10 (0%)]\tLoss: 0.000051\n",
      "Train Epoch: 35 [0/10 (0%)]\tLoss: 0.000045\n",
      "Train Epoch: 40 [0/10 (0%)]\tLoss: 0.000040\n",
      "Train Epoch: 45 [0/10 (0%)]\tLoss: 0.000036\n",
      "\n",
      "Val set: Average loss: 1.0125, Accuracy: 759/1000 (75.90%)\n",
      "\n",
      "Num Samples For Training 10 Num Samples For Val 1000\n"
     ]
    },
    {
     "name": "stderr",
     "output_type": "stream",
     "text": [
      "Using cache found in C:\\Users\\kesha/.cache\\torch\\hub\\pytorch_vision_v0.10.0\n"
     ]
    },
    {
     "name": "stdout",
     "output_type": "stream",
     "text": [
      "Train Epoch: 0 [0/10 (0%)]\tLoss: 0.667167\n",
      "Train Epoch: 5 [0/10 (0%)]\tLoss: 0.000334\n",
      "Train Epoch: 10 [0/10 (0%)]\tLoss: 0.000101\n",
      "Train Epoch: 15 [0/10 (0%)]\tLoss: 0.000052\n",
      "Train Epoch: 20 [0/10 (0%)]\tLoss: 0.000034\n",
      "Train Epoch: 25 [0/10 (0%)]\tLoss: 0.000026\n",
      "Train Epoch: 30 [0/10 (0%)]\tLoss: 0.000022\n",
      "Train Epoch: 35 [0/10 (0%)]\tLoss: 0.000020\n",
      "Train Epoch: 40 [0/10 (0%)]\tLoss: 0.000018\n",
      "Train Epoch: 45 [0/10 (0%)]\tLoss: 0.000017\n",
      "\n",
      "Val set: Average loss: 0.7790, Accuracy: 828/1000 (82.80%)\n",
      "\n",
      "Num Samples For Training 10 Num Samples For Val 1000\n"
     ]
    },
    {
     "name": "stderr",
     "output_type": "stream",
     "text": [
      "Using cache found in C:\\Users\\kesha/.cache\\torch\\hub\\pytorch_vision_v0.10.0\n"
     ]
    },
    {
     "name": "stdout",
     "output_type": "stream",
     "text": [
      "Train Epoch: 0 [0/10 (0%)]\tLoss: 0.732690\n",
      "Train Epoch: 5 [0/10 (0%)]\tLoss: 0.000415\n",
      "Train Epoch: 10 [0/10 (0%)]\tLoss: 0.000163\n",
      "Train Epoch: 15 [0/10 (0%)]\tLoss: 0.000130\n",
      "Train Epoch: 20 [0/10 (0%)]\tLoss: 0.000106\n",
      "Train Epoch: 25 [0/10 (0%)]\tLoss: 0.000089\n",
      "Train Epoch: 30 [0/10 (0%)]\tLoss: 0.000077\n",
      "Train Epoch: 35 [0/10 (0%)]\tLoss: 0.000067\n",
      "Train Epoch: 40 [0/10 (0%)]\tLoss: 0.000060\n",
      "Train Epoch: 45 [0/10 (0%)]\tLoss: 0.000053\n",
      "\n",
      "Val set: Average loss: 1.6499, Accuracy: 678/1000 (67.80%)\n",
      "\n",
      "Num Samples For Training 10 Num Samples For Val 1000\n"
     ]
    },
    {
     "name": "stderr",
     "output_type": "stream",
     "text": [
      "Using cache found in C:\\Users\\kesha/.cache\\torch\\hub\\pytorch_vision_v0.10.0\n"
     ]
    },
    {
     "name": "stdout",
     "output_type": "stream",
     "text": [
      "Train Epoch: 0 [0/10 (0%)]\tLoss: 0.708258\n",
      "Train Epoch: 5 [0/10 (0%)]\tLoss: 0.000704\n",
      "Train Epoch: 10 [0/10 (0%)]\tLoss: 0.000220\n",
      "Train Epoch: 15 [0/10 (0%)]\tLoss: 0.000125\n",
      "Train Epoch: 20 [0/10 (0%)]\tLoss: 0.000090\n",
      "Train Epoch: 25 [0/10 (0%)]\tLoss: 0.000076\n",
      "Train Epoch: 30 [0/10 (0%)]\tLoss: 0.000065\n",
      "Train Epoch: 35 [0/10 (0%)]\tLoss: 0.000056\n",
      "Train Epoch: 40 [0/10 (0%)]\tLoss: 0.000049\n",
      "Train Epoch: 45 [0/10 (0%)]\tLoss: 0.000044\n",
      "\n",
      "Val set: Average loss: 1.0828, Accuracy: 669/1000 (66.90%)\n",
      "\n",
      "Num Samples For Training 10 Num Samples For Val 1000\n"
     ]
    },
    {
     "name": "stderr",
     "output_type": "stream",
     "text": [
      "Using cache found in C:\\Users\\kesha/.cache\\torch\\hub\\pytorch_vision_v0.10.0\n"
     ]
    },
    {
     "name": "stdout",
     "output_type": "stream",
     "text": [
      "Train Epoch: 0 [0/10 (0%)]\tLoss: 0.880881\n",
      "Train Epoch: 5 [0/10 (0%)]\tLoss: 0.001031\n",
      "Train Epoch: 10 [0/10 (0%)]\tLoss: 0.000312\n",
      "Train Epoch: 15 [0/10 (0%)]\tLoss: 0.000193\n",
      "Train Epoch: 20 [0/10 (0%)]\tLoss: 0.000147\n",
      "Train Epoch: 25 [0/10 (0%)]\tLoss: 0.000114\n",
      "Train Epoch: 30 [0/10 (0%)]\tLoss: 0.000096\n",
      "Train Epoch: 35 [0/10 (0%)]\tLoss: 0.000084\n",
      "Train Epoch: 40 [0/10 (0%)]\tLoss: 0.000073\n",
      "Train Epoch: 45 [0/10 (0%)]\tLoss: 0.000064\n",
      "\n",
      "Val set: Average loss: 0.3317, Accuracy: 879/1000 (87.90%)\n",
      "\n",
      "Num Samples For Training 10 Num Samples For Val 1000\n"
     ]
    },
    {
     "name": "stderr",
     "output_type": "stream",
     "text": [
      "Using cache found in C:\\Users\\kesha/.cache\\torch\\hub\\pytorch_vision_v0.10.0\n"
     ]
    },
    {
     "name": "stdout",
     "output_type": "stream",
     "text": [
      "Train Epoch: 0 [0/10 (0%)]\tLoss: 0.823901\n",
      "Train Epoch: 5 [0/10 (0%)]\tLoss: 0.000528\n",
      "Train Epoch: 10 [0/10 (0%)]\tLoss: 0.000204\n",
      "Train Epoch: 15 [0/10 (0%)]\tLoss: 0.000090\n",
      "Train Epoch: 20 [0/10 (0%)]\tLoss: 0.000056\n",
      "Train Epoch: 25 [0/10 (0%)]\tLoss: 0.000043\n",
      "Train Epoch: 30 [0/10 (0%)]\tLoss: 0.000035\n",
      "Train Epoch: 35 [0/10 (0%)]\tLoss: 0.000030\n",
      "Train Epoch: 40 [0/10 (0%)]\tLoss: 0.000026\n",
      "Train Epoch: 45 [0/10 (0%)]\tLoss: 0.000024\n",
      "\n",
      "Val set: Average loss: 0.6236, Accuracy: 812/1000 (81.20%)\n",
      "\n",
      "Num Samples For Training 10 Num Samples For Val 1000\n"
     ]
    },
    {
     "name": "stderr",
     "output_type": "stream",
     "text": [
      "Using cache found in C:\\Users\\kesha/.cache\\torch\\hub\\pytorch_vision_v0.10.0\n"
     ]
    },
    {
     "name": "stdout",
     "output_type": "stream",
     "text": [
      "Train Epoch: 0 [0/10 (0%)]\tLoss: 0.589013\n",
      "Train Epoch: 5 [0/10 (0%)]\tLoss: 0.000782\n",
      "Train Epoch: 10 [0/10 (0%)]\tLoss: 0.000182\n",
      "Train Epoch: 15 [0/10 (0%)]\tLoss: 0.000090\n",
      "Train Epoch: 20 [0/10 (0%)]\tLoss: 0.000051\n",
      "Train Epoch: 25 [0/10 (0%)]\tLoss: 0.000035\n",
      "Train Epoch: 30 [0/10 (0%)]\tLoss: 0.000028\n",
      "Train Epoch: 35 [0/10 (0%)]\tLoss: 0.000024\n",
      "Train Epoch: 40 [0/10 (0%)]\tLoss: 0.000021\n",
      "Train Epoch: 45 [0/10 (0%)]\tLoss: 0.000019\n",
      "\n",
      "Val set: Average loss: 0.7500, Accuracy: 715/1000 (71.50%)\n",
      "\n",
      "Num Samples For Training 10 Num Samples For Val 1000\n"
     ]
    },
    {
     "name": "stderr",
     "output_type": "stream",
     "text": [
      "Using cache found in C:\\Users\\kesha/.cache\\torch\\hub\\pytorch_vision_v0.10.0\n"
     ]
    },
    {
     "name": "stdout",
     "output_type": "stream",
     "text": [
      "Train Epoch: 0 [0/10 (0%)]\tLoss: 0.755104\n",
      "Train Epoch: 5 [0/10 (0%)]\tLoss: 0.001002\n",
      "Train Epoch: 10 [0/10 (0%)]\tLoss: 0.000298\n",
      "Train Epoch: 15 [0/10 (0%)]\tLoss: 0.000163\n",
      "Train Epoch: 20 [0/10 (0%)]\tLoss: 0.000100\n",
      "Train Epoch: 25 [0/10 (0%)]\tLoss: 0.000070\n",
      "Train Epoch: 30 [0/10 (0%)]\tLoss: 0.000055\n",
      "Train Epoch: 35 [0/10 (0%)]\tLoss: 0.000048\n",
      "Train Epoch: 40 [0/10 (0%)]\tLoss: 0.000042\n",
      "Train Epoch: 45 [0/10 (0%)]\tLoss: 0.000039\n",
      "\n",
      "Val set: Average loss: 0.5378, Accuracy: 792/1000 (79.20%)\n",
      "\n",
      "Num Samples For Training 10 Num Samples For Val 1000\n"
     ]
    },
    {
     "name": "stderr",
     "output_type": "stream",
     "text": [
      "Using cache found in C:\\Users\\kesha/.cache\\torch\\hub\\pytorch_vision_v0.10.0\n"
     ]
    },
    {
     "name": "stdout",
     "output_type": "stream",
     "text": [
      "Train Epoch: 0 [0/10 (0%)]\tLoss: 0.693898\n",
      "Train Epoch: 5 [0/10 (0%)]\tLoss: 0.000980\n",
      "Train Epoch: 10 [0/10 (0%)]\tLoss: 0.000283\n",
      "Train Epoch: 15 [0/10 (0%)]\tLoss: 0.000166\n",
      "Train Epoch: 20 [0/10 (0%)]\tLoss: 0.000125\n",
      "Train Epoch: 25 [0/10 (0%)]\tLoss: 0.000101\n",
      "Train Epoch: 30 [0/10 (0%)]\tLoss: 0.000083\n",
      "Train Epoch: 35 [0/10 (0%)]\tLoss: 0.000070\n",
      "Train Epoch: 40 [0/10 (0%)]\tLoss: 0.000061\n",
      "Train Epoch: 45 [0/10 (0%)]\tLoss: 0.000054\n",
      "\n",
      "Val set: Average loss: 0.5735, Accuracy: 808/1000 (80.80%)\n",
      "\n",
      "Num Samples For Training 10 Num Samples For Val 1000\n"
     ]
    },
    {
     "name": "stderr",
     "output_type": "stream",
     "text": [
      "Using cache found in C:\\Users\\kesha/.cache\\torch\\hub\\pytorch_vision_v0.10.0\n"
     ]
    },
    {
     "name": "stdout",
     "output_type": "stream",
     "text": [
      "Train Epoch: 0 [0/10 (0%)]\tLoss: 0.610384\n",
      "Train Epoch: 5 [0/10 (0%)]\tLoss: 0.000364\n",
      "Train Epoch: 10 [0/10 (0%)]\tLoss: 0.000090\n",
      "Train Epoch: 15 [0/10 (0%)]\tLoss: 0.000044\n",
      "Train Epoch: 20 [0/10 (0%)]\tLoss: 0.000030\n",
      "Train Epoch: 25 [0/10 (0%)]\tLoss: 0.000023\n",
      "Train Epoch: 30 [0/10 (0%)]\tLoss: 0.000020\n",
      "Train Epoch: 35 [0/10 (0%)]\tLoss: 0.000018\n",
      "Train Epoch: 40 [0/10 (0%)]\tLoss: 0.000016\n",
      "Train Epoch: 45 [0/10 (0%)]\tLoss: 0.000015\n",
      "\n",
      "Val set: Average loss: 0.5858, Accuracy: 810/1000 (81.00%)\n",
      "\n",
      "Num Samples For Training 10 Num Samples For Val 1000\n"
     ]
    },
    {
     "name": "stderr",
     "output_type": "stream",
     "text": [
      "Using cache found in C:\\Users\\kesha/.cache\\torch\\hub\\pytorch_vision_v0.10.0\n"
     ]
    },
    {
     "name": "stdout",
     "output_type": "stream",
     "text": [
      "Train Epoch: 0 [0/10 (0%)]\tLoss: 0.823395\n",
      "Train Epoch: 5 [0/10 (0%)]\tLoss: 0.000381\n",
      "Train Epoch: 10 [0/10 (0%)]\tLoss: 0.000115\n",
      "Train Epoch: 15 [0/10 (0%)]\tLoss: 0.000072\n",
      "Train Epoch: 20 [0/10 (0%)]\tLoss: 0.000058\n",
      "Train Epoch: 25 [0/10 (0%)]\tLoss: 0.000050\n",
      "Train Epoch: 30 [0/10 (0%)]\tLoss: 0.000043\n",
      "Train Epoch: 35 [0/10 (0%)]\tLoss: 0.000039\n",
      "Train Epoch: 40 [0/10 (0%)]\tLoss: 0.000035\n",
      "Train Epoch: 45 [0/10 (0%)]\tLoss: 0.000032\n",
      "\n",
      "Val set: Average loss: 1.4386, Accuracy: 708/1000 (70.80%)\n",
      "\n",
      "Num Samples For Training 10 Num Samples For Val 1000\n"
     ]
    },
    {
     "name": "stderr",
     "output_type": "stream",
     "text": [
      "Using cache found in C:\\Users\\kesha/.cache\\torch\\hub\\pytorch_vision_v0.10.0\n"
     ]
    },
    {
     "name": "stdout",
     "output_type": "stream",
     "text": [
      "Train Epoch: 0 [0/10 (0%)]\tLoss: 0.616950\n",
      "Train Epoch: 5 [0/10 (0%)]\tLoss: 0.000238\n",
      "Train Epoch: 10 [0/10 (0%)]\tLoss: 0.000064\n",
      "Train Epoch: 15 [0/10 (0%)]\tLoss: 0.000042\n",
      "Train Epoch: 20 [0/10 (0%)]\tLoss: 0.000032\n",
      "Train Epoch: 25 [0/10 (0%)]\tLoss: 0.000025\n",
      "Train Epoch: 30 [0/10 (0%)]\tLoss: 0.000020\n",
      "Train Epoch: 35 [0/10 (0%)]\tLoss: 0.000018\n",
      "Train Epoch: 40 [0/10 (0%)]\tLoss: 0.000016\n",
      "Train Epoch: 45 [0/10 (0%)]\tLoss: 0.000015\n",
      "\n",
      "Val set: Average loss: 1.4217, Accuracy: 725/1000 (72.50%)\n",
      "\n",
      "Num Samples For Training 10 Num Samples For Val 1000\n"
     ]
    },
    {
     "name": "stderr",
     "output_type": "stream",
     "text": [
      "Using cache found in C:\\Users\\kesha/.cache\\torch\\hub\\pytorch_vision_v0.10.0\n"
     ]
    },
    {
     "name": "stdout",
     "output_type": "stream",
     "text": [
      "Train Epoch: 0 [0/10 (0%)]\tLoss: 0.695829\n",
      "Train Epoch: 5 [0/10 (0%)]\tLoss: 0.000703\n",
      "Train Epoch: 10 [0/10 (0%)]\tLoss: 0.000186\n",
      "Train Epoch: 15 [0/10 (0%)]\tLoss: 0.000107\n",
      "Train Epoch: 20 [0/10 (0%)]\tLoss: 0.000078\n",
      "Train Epoch: 25 [0/10 (0%)]\tLoss: 0.000061\n",
      "Train Epoch: 30 [0/10 (0%)]\tLoss: 0.000050\n",
      "Train Epoch: 35 [0/10 (0%)]\tLoss: 0.000043\n",
      "Train Epoch: 40 [0/10 (0%)]\tLoss: 0.000037\n",
      "Train Epoch: 45 [0/10 (0%)]\tLoss: 0.000034\n",
      "\n",
      "Val set: Average loss: 0.6619, Accuracy: 789/1000 (78.90%)\n",
      "\n",
      "Num Samples For Training 10 Num Samples For Val 1000\n"
     ]
    },
    {
     "name": "stderr",
     "output_type": "stream",
     "text": [
      "Using cache found in C:\\Users\\kesha/.cache\\torch\\hub\\pytorch_vision_v0.10.0\n"
     ]
    },
    {
     "name": "stdout",
     "output_type": "stream",
     "text": [
      "Train Epoch: 0 [0/10 (0%)]\tLoss: 0.721861\n",
      "Train Epoch: 5 [0/10 (0%)]\tLoss: 0.000549\n",
      "Train Epoch: 10 [0/10 (0%)]\tLoss: 0.000152\n",
      "Train Epoch: 15 [0/10 (0%)]\tLoss: 0.000084\n",
      "Train Epoch: 20 [0/10 (0%)]\tLoss: 0.000056\n",
      "Train Epoch: 25 [0/10 (0%)]\tLoss: 0.000041\n",
      "Train Epoch: 30 [0/10 (0%)]\tLoss: 0.000033\n",
      "Train Epoch: 35 [0/10 (0%)]\tLoss: 0.000028\n",
      "Train Epoch: 40 [0/10 (0%)]\tLoss: 0.000025\n",
      "Train Epoch: 45 [0/10 (0%)]\tLoss: 0.000023\n",
      "\n",
      "Val set: Average loss: 0.9651, Accuracy: 776/1000 (77.60%)\n",
      "\n",
      "Num Samples For Training 10 Num Samples For Val 1000\n"
     ]
    },
    {
     "name": "stderr",
     "output_type": "stream",
     "text": [
      "Using cache found in C:\\Users\\kesha/.cache\\torch\\hub\\pytorch_vision_v0.10.0\n"
     ]
    },
    {
     "name": "stdout",
     "output_type": "stream",
     "text": [
      "Train Epoch: 0 [0/10 (0%)]\tLoss: 0.939676\n",
      "Train Epoch: 5 [0/10 (0%)]\tLoss: 0.001292\n",
      "Train Epoch: 10 [0/10 (0%)]\tLoss: 0.000386\n",
      "Train Epoch: 15 [0/10 (0%)]\tLoss: 0.000203\n",
      "Train Epoch: 20 [0/10 (0%)]\tLoss: 0.000136\n",
      "Train Epoch: 25 [0/10 (0%)]\tLoss: 0.000113\n",
      "Train Epoch: 30 [0/10 (0%)]\tLoss: 0.000097\n",
      "Train Epoch: 35 [0/10 (0%)]\tLoss: 0.000084\n",
      "Train Epoch: 40 [0/10 (0%)]\tLoss: 0.000074\n",
      "Train Epoch: 45 [0/10 (0%)]\tLoss: 0.000066\n",
      "\n",
      "Val set: Average loss: 0.6046, Accuracy: 802/1000 (80.20%)\n",
      "\n",
      "Num Samples For Training 10 Num Samples For Val 1000\n"
     ]
    },
    {
     "name": "stderr",
     "output_type": "stream",
     "text": [
      "Using cache found in C:\\Users\\kesha/.cache\\torch\\hub\\pytorch_vision_v0.10.0\n"
     ]
    },
    {
     "name": "stdout",
     "output_type": "stream",
     "text": [
      "Train Epoch: 0 [0/10 (0%)]\tLoss: 0.829804\n",
      "Train Epoch: 5 [0/10 (0%)]\tLoss: 0.000246\n",
      "Train Epoch: 10 [0/10 (0%)]\tLoss: 0.000069\n",
      "Train Epoch: 15 [0/10 (0%)]\tLoss: 0.000041\n",
      "Train Epoch: 20 [0/10 (0%)]\tLoss: 0.000032\n",
      "Train Epoch: 25 [0/10 (0%)]\tLoss: 0.000024\n",
      "Train Epoch: 30 [0/10 (0%)]\tLoss: 0.000019\n",
      "Train Epoch: 35 [0/10 (0%)]\tLoss: 0.000017\n",
      "Train Epoch: 40 [0/10 (0%)]\tLoss: 0.000015\n",
      "Train Epoch: 45 [0/10 (0%)]\tLoss: 0.000014\n",
      "\n",
      "Val set: Average loss: 1.9066, Accuracy: 620/1000 (62.00%)\n",
      "\n",
      "Num Samples For Training 10 Num Samples For Val 1000\n"
     ]
    },
    {
     "name": "stderr",
     "output_type": "stream",
     "text": [
      "Using cache found in C:\\Users\\kesha/.cache\\torch\\hub\\pytorch_vision_v0.10.0\n"
     ]
    },
    {
     "name": "stdout",
     "output_type": "stream",
     "text": [
      "Train Epoch: 0 [0/10 (0%)]\tLoss: 1.004487\n",
      "Train Epoch: 5 [0/10 (0%)]\tLoss: 0.000528\n",
      "Train Epoch: 10 [0/10 (0%)]\tLoss: 0.000136\n",
      "Train Epoch: 15 [0/10 (0%)]\tLoss: 0.000081\n",
      "Train Epoch: 20 [0/10 (0%)]\tLoss: 0.000061\n",
      "Train Epoch: 25 [0/10 (0%)]\tLoss: 0.000050\n",
      "Train Epoch: 30 [0/10 (0%)]\tLoss: 0.000043\n",
      "Train Epoch: 35 [0/10 (0%)]\tLoss: 0.000039\n",
      "Train Epoch: 40 [0/10 (0%)]\tLoss: 0.000035\n",
      "Train Epoch: 45 [0/10 (0%)]\tLoss: 0.000033\n",
      "\n",
      "Val set: Average loss: 1.4370, Accuracy: 655/1000 (65.50%)\n",
      "\n",
      "Num Samples For Training 10 Num Samples For Val 1000\n"
     ]
    },
    {
     "name": "stderr",
     "output_type": "stream",
     "text": [
      "Using cache found in C:\\Users\\kesha/.cache\\torch\\hub\\pytorch_vision_v0.10.0\n"
     ]
    },
    {
     "name": "stdout",
     "output_type": "stream",
     "text": [
      "Train Epoch: 0 [0/10 (0%)]\tLoss: 0.616067\n",
      "Train Epoch: 5 [0/10 (0%)]\tLoss: 0.000250\n",
      "Train Epoch: 10 [0/10 (0%)]\tLoss: 0.000066\n",
      "Train Epoch: 15 [0/10 (0%)]\tLoss: 0.000036\n",
      "Train Epoch: 20 [0/10 (0%)]\tLoss: 0.000025\n",
      "Train Epoch: 25 [0/10 (0%)]\tLoss: 0.000019\n",
      "Train Epoch: 30 [0/10 (0%)]\tLoss: 0.000015\n",
      "Train Epoch: 35 [0/10 (0%)]\tLoss: 0.000012\n",
      "Train Epoch: 40 [0/10 (0%)]\tLoss: 0.000011\n",
      "Train Epoch: 45 [0/10 (0%)]\tLoss: 0.000010\n",
      "\n",
      "Val set: Average loss: 2.0749, Accuracy: 642/1000 (64.20%)\n",
      "\n",
      "Num Samples For Training 10 Num Samples For Val 1000\n"
     ]
    },
    {
     "name": "stderr",
     "output_type": "stream",
     "text": [
      "Using cache found in C:\\Users\\kesha/.cache\\torch\\hub\\pytorch_vision_v0.10.0\n"
     ]
    },
    {
     "name": "stdout",
     "output_type": "stream",
     "text": [
      "Train Epoch: 0 [0/10 (0%)]\tLoss: 0.999577\n",
      "Train Epoch: 5 [0/10 (0%)]\tLoss: 0.000602\n",
      "Train Epoch: 10 [0/10 (0%)]\tLoss: 0.000182\n",
      "Train Epoch: 15 [0/10 (0%)]\tLoss: 0.000127\n",
      "Train Epoch: 20 [0/10 (0%)]\tLoss: 0.000084\n",
      "Train Epoch: 25 [0/10 (0%)]\tLoss: 0.000060\n",
      "Train Epoch: 30 [0/10 (0%)]\tLoss: 0.000048\n",
      "Train Epoch: 35 [0/10 (0%)]\tLoss: 0.000041\n",
      "Train Epoch: 40 [0/10 (0%)]\tLoss: 0.000036\n",
      "Train Epoch: 45 [0/10 (0%)]\tLoss: 0.000033\n",
      "\n",
      "Val set: Average loss: 0.9688, Accuracy: 717/1000 (71.70%)\n",
      "\n",
      "Num Samples For Training 10 Num Samples For Val 1000\n"
     ]
    },
    {
     "name": "stderr",
     "output_type": "stream",
     "text": [
      "Using cache found in C:\\Users\\kesha/.cache\\torch\\hub\\pytorch_vision_v0.10.0\n"
     ]
    },
    {
     "name": "stdout",
     "output_type": "stream",
     "text": [
      "Train Epoch: 0 [0/10 (0%)]\tLoss: 0.856159\n",
      "Train Epoch: 5 [0/10 (0%)]\tLoss: 0.000863\n",
      "Train Epoch: 10 [0/10 (0%)]\tLoss: 0.000181\n",
      "Train Epoch: 15 [0/10 (0%)]\tLoss: 0.000096\n",
      "Train Epoch: 20 [0/10 (0%)]\tLoss: 0.000068\n",
      "Train Epoch: 25 [0/10 (0%)]\tLoss: 0.000052\n",
      "Train Epoch: 30 [0/10 (0%)]\tLoss: 0.000043\n",
      "Train Epoch: 35 [0/10 (0%)]\tLoss: 0.000037\n",
      "Train Epoch: 40 [0/10 (0%)]\tLoss: 0.000033\n",
      "Train Epoch: 45 [0/10 (0%)]\tLoss: 0.000030\n",
      "\n",
      "Val set: Average loss: 1.1005, Accuracy: 751/1000 (75.10%)\n",
      "\n",
      "Val acc over 5 instances on dataset: pneumoniamnist 75.06 +- 6.58 (var: 43.36)\n",
      "CPU times: total: 31min 6s\n",
      "Wall time: 15min 8s\n"
     ]
    }
   ],
   "source": [
    "%%time\n",
    "torch.manual_seed(0)\n",
    "torch.backends.cudnn.deterministic = True\n",
    "torch.backends.cudnn.benchmark = False\n",
    "random.seed(0)\n",
    "np.random.seed(0)\n",
    "\n",
    "# preprocessing\n",
    "data_flag = 'pneumoniamnist'\n",
    "\n",
    "download = True\n",
    "\n",
    "info = INFO[data_flag]\n",
    "n_classes = len(info['label'])\n",
    "DataClass = getattr(medmnist, info['python_class'])\n",
    "\n",
    "data_transform = transforms.Compose([\n",
    "      transforms.ToTensor(),\n",
    "      transforms.Normalize(mean=[.5], std=[.5]),\n",
    "      ])\n",
    "\n",
    "use_cuda = torch.cuda.is_available()\n",
    "device = torch.device(\"cuda\" if use_cuda else \"cpu\")\n",
    "\n",
    "# load the data\n",
    "train_dataset = DataClass(split='train', transform=data_transform, download=download)\n",
    "val_dataset = DataClass(split='train', transform=data_transform, download=download)\n",
    "\n",
    "accs_val = []\n",
    "\n",
    "for seed in  range(0, 50):\n",
    "  prng = RandomState(seed)\n",
    "  random_permute = prng.permutation(np.arange(0, 1000))\n",
    "  train_top = 10//n_classes\n",
    "  val_top = 1000//n_classes\n",
    "  indx_train = np.concatenate([np.where(train_dataset.labels == label)[0][random_permute[0:train_top]] for label in range(0, n_classes)])\n",
    "  indx_val = np.concatenate([np.where(train_dataset.labels == label)[0][random_permute[train_top:train_top + val_top]] for label in range(0, n_classes)])\n",
    "\n",
    "  train_data = Subset(train_dataset, indx_train)\n",
    "  val_data = Subset(val_dataset, indx_val)\n",
    "\n",
    "  print('Num Samples For Training %d Num Samples For Val %d'%(train_data.indices.shape[0],val_data.indices.shape[0]))\n",
    "\n",
    "  train_loader = torch.utils.data.DataLoader(train_data,\n",
    "                                             batch_size=32, \n",
    "                                             shuffle=True)\n",
    "\n",
    "  val_loader = torch.utils.data.DataLoader(val_data,\n",
    "                                             batch_size=128, \n",
    "                                             shuffle=False)\n",
    "\n",
    "  model = resNet18()\n",
    "  model.to(device)\n",
    "\n",
    "  optimizer = torch.optim.Adam(model.parameters(),lr=1e-3)\n",
    "\n",
    "  for epoch in range(50):\n",
    "    train(model, device, train_loader, optimizer, epoch, display=epoch%5==0)\n",
    "  accs_val.append(test(model, device, val_loader))\n",
    "\n",
    "accs_val = np.array(accs_val)\n",
    "\n",
    "print('Val acc over 5 instances on dataset: %s %.2f +- %.2f (var: %.2f)'%(data_flag, accs_val.mean(), accs_val.std(), accs_val.var()))\n",
    "     "
   ]
  },
  {
   "cell_type": "code",
   "execution_count": 8,
   "metadata": {},
   "outputs": [
    {
     "data": {
      "image/png": "[encoded data removed]",
      "text/plain": [
       "<Figure size 640x480 with 1 Axes>"
      ]
     },
     "metadata": {},
     "output_type": "display_data"
    }
   ],
   "source": [
    "import matplotlib.pyplot as plt\n",
    "\n",
    "plt.plot(accs_val)\n",
    "plt.xlabel('seeds')\n",
    "plt.ylabel('accuracy')\n",
    "plt.title('Validation set over 50 seeds for ResNets');\n",
    "plt.savefig('C1val50seeds_resnet.png')"
   ]
  }
 ],
 "metadata": {
  "kernelspec": {
   "display_name": "Python 3",
   "language": "python",
   "name": "python3"
  },
  "language_info": {
   "codemirror_mode": {
    "name": "ipython",
    "version": 3
   },
   "file_extension": ".py",
   "mimetype": "text/x-python",
   "name": "python",
   "nbconvert_exporter": "python",
   "pygments_lexer": "ipython3",
   "version": "3.11.5"
  }
 },
 "nbformat": 4,
 "nbformat_minor": 2
}
